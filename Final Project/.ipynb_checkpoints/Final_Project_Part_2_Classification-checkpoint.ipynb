{
 "cells": [
  {
   "cell_type": "code",
   "execution_count": 71,
   "metadata": {
    "id": "y_Dn9rzyiqxi"
   },
   "outputs": [],
   "source": [
    "import pandas as pd\n",
    "import numpy as np\n",
    "import torch\n",
    "import torch.nn as nn\n",
    "import seaborn as sns\n",
    "from sklearn.metrics import confusion_matrix, ConfusionMatrixDisplay, f1_score"
   ]
  },
  {
   "cell_type": "markdown",
   "metadata": {
    "id": "GGLKx-6qiz-_"
   },
   "source": [
    "Upload the labels.csv and processed_counts.csv files to colab or your local workspace.\n",
    "\n",
    "**Copied from Part 1:**\n",
    "This data associates a cell barcode, such as \"AAAGCCTGGCTAAC-1\", to a certain cell type label, such as \"CD14+ Monocyte\". For each cell barcode, there are also log RNA seq counts of 765 different genes, such as HES4.\n",
    "\n",
    "label.csv stores the association between a cell barcode and a cell type label.\n",
    "\n",
    "processed_counts.csv stores the normalized log read counts for each cell, where each row represents a single cell, and each column represents a gene."
   ]
  },
  {
   "cell_type": "code",
   "execution_count": 6,
   "metadata": {
    "id": "WelsjSzviy4m"
   },
   "outputs": [],
   "source": [
    "labels_pd = pd.read_csv(\"labels.csv\")\n",
    "counts_pd = pd.read_csv(\"processed_counts.csv\")"
   ]
  },
  {
   "cell_type": "code",
   "execution_count": 7,
   "metadata": {
    "colab": {
     "base_uri": "https://localhost:8080/",
     "height": 592
    },
    "id": "aIX8kcTXi7EV",
    "outputId": "aacbc984-4c80-42bd-d4d5-01bd54f12ca8"
   },
   "outputs": [
    {
     "data": {
      "text/html": [
       "<div>\n",
       "<style scoped>\n",
       "    .dataframe tbody tr th:only-of-type {\n",
       "        vertical-align: middle;\n",
       "    }\n",
       "\n",
       "    .dataframe tbody tr th {\n",
       "        vertical-align: top;\n",
       "    }\n",
       "\n",
       "    .dataframe thead th {\n",
       "        text-align: right;\n",
       "    }\n",
       "</style>\n",
       "<table border=\"1\" class=\"dataframe\">\n",
       "  <thead>\n",
       "    <tr style=\"text-align: right;\">\n",
       "      <th></th>\n",
       "      <th>HES4</th>\n",
       "      <th>TNFRSF4</th>\n",
       "      <th>SSU72</th>\n",
       "      <th>PARK7</th>\n",
       "      <th>RBP7</th>\n",
       "      <th>SRM</th>\n",
       "      <th>MAD2L2</th>\n",
       "      <th>AGTRAP</th>\n",
       "      <th>TNFRSF1B</th>\n",
       "      <th>EFHD2</th>\n",
       "      <th>...</th>\n",
       "      <th>MRPS6</th>\n",
       "      <th>TTC3</th>\n",
       "      <th>U2AF1</th>\n",
       "      <th>CSTB</th>\n",
       "      <th>SUMO3</th>\n",
       "      <th>ITGB2</th>\n",
       "      <th>S100B</th>\n",
       "      <th>PRMT2</th>\n",
       "      <th>MT-ND3</th>\n",
       "      <th>bulk_labels</th>\n",
       "    </tr>\n",
       "  </thead>\n",
       "  <tbody>\n",
       "    <tr>\n",
       "      <th>AAAGCCTGGCTAAC-1</th>\n",
       "      <td>-0.326</td>\n",
       "      <td>-0.191</td>\n",
       "      <td>-0.728</td>\n",
       "      <td>-0.301</td>\n",
       "      <td>3.386</td>\n",
       "      <td>-0.531</td>\n",
       "      <td>2.016</td>\n",
       "      <td>3.377</td>\n",
       "      <td>4.841</td>\n",
       "      <td>-0.525</td>\n",
       "      <td>...</td>\n",
       "      <td>-0.532</td>\n",
       "      <td>-0.341</td>\n",
       "      <td>0.303</td>\n",
       "      <td>1.404</td>\n",
       "      <td>4.294</td>\n",
       "      <td>0.519</td>\n",
       "      <td>-0.21</td>\n",
       "      <td>-0.636</td>\n",
       "      <td>4.011</td>\n",
       "      <td>CD14+ Monocyte</td>\n",
       "    </tr>\n",
       "    <tr>\n",
       "      <th>AAATTCGATGCACA-1</th>\n",
       "      <td>1.171</td>\n",
       "      <td>-0.191</td>\n",
       "      <td>0.795</td>\n",
       "      <td>-1.200</td>\n",
       "      <td>-0.174</td>\n",
       "      <td>-0.531</td>\n",
       "      <td>1.889</td>\n",
       "      <td>-0.486</td>\n",
       "      <td>-0.459</td>\n",
       "      <td>-0.525</td>\n",
       "      <td>...</td>\n",
       "      <td>-0.532</td>\n",
       "      <td>-0.341</td>\n",
       "      <td>-0.905</td>\n",
       "      <td>2.849</td>\n",
       "      <td>-0.585</td>\n",
       "      <td>1.172</td>\n",
       "      <td>-0.21</td>\n",
       "      <td>2.630</td>\n",
       "      <td>-0.490</td>\n",
       "      <td>Dendritic</td>\n",
       "    </tr>\n",
       "    <tr>\n",
       "      <th>AACACGTGGTCTTT-1</th>\n",
       "      <td>-0.326</td>\n",
       "      <td>-0.191</td>\n",
       "      <td>0.483</td>\n",
       "      <td>-1.200</td>\n",
       "      <td>-0.174</td>\n",
       "      <td>-0.531</td>\n",
       "      <td>-0.451</td>\n",
       "      <td>0.971</td>\n",
       "      <td>-0.459</td>\n",
       "      <td>2.286</td>\n",
       "      <td>...</td>\n",
       "      <td>2.606</td>\n",
       "      <td>-0.341</td>\n",
       "      <td>-0.905</td>\n",
       "      <td>-0.455</td>\n",
       "      <td>-0.585</td>\n",
       "      <td>0.722</td>\n",
       "      <td>-0.21</td>\n",
       "      <td>0.663</td>\n",
       "      <td>-0.490</td>\n",
       "      <td>CD56+ NK</td>\n",
       "    </tr>\n",
       "    <tr>\n",
       "      <th>AAGTGCACGTGCTA-1</th>\n",
       "      <td>-0.326</td>\n",
       "      <td>-0.191</td>\n",
       "      <td>1.134</td>\n",
       "      <td>-0.157</td>\n",
       "      <td>-0.174</td>\n",
       "      <td>-0.531</td>\n",
       "      <td>-0.451</td>\n",
       "      <td>-0.486</td>\n",
       "      <td>-0.459</td>\n",
       "      <td>-0.525</td>\n",
       "      <td>...</td>\n",
       "      <td>-0.532</td>\n",
       "      <td>-0.341</td>\n",
       "      <td>-0.905</td>\n",
       "      <td>-0.119</td>\n",
       "      <td>-0.585</td>\n",
       "      <td>0.766</td>\n",
       "      <td>-0.21</td>\n",
       "      <td>-0.636</td>\n",
       "      <td>-0.490</td>\n",
       "      <td>CD4+/CD25 T Reg</td>\n",
       "    </tr>\n",
       "    <tr>\n",
       "      <th>ACACGAACGGAGTG-1</th>\n",
       "      <td>-0.326</td>\n",
       "      <td>-0.191</td>\n",
       "      <td>-0.728</td>\n",
       "      <td>-0.607</td>\n",
       "      <td>-0.174</td>\n",
       "      <td>-0.531</td>\n",
       "      <td>-0.451</td>\n",
       "      <td>0.787</td>\n",
       "      <td>-0.459</td>\n",
       "      <td>1.932</td>\n",
       "      <td>...</td>\n",
       "      <td>0.839</td>\n",
       "      <td>1.679</td>\n",
       "      <td>-0.108</td>\n",
       "      <td>-0.534</td>\n",
       "      <td>-0.585</td>\n",
       "      <td>-0.007</td>\n",
       "      <td>-0.21</td>\n",
       "      <td>-0.636</td>\n",
       "      <td>-0.490</td>\n",
       "      <td>Dendritic</td>\n",
       "    </tr>\n",
       "    <tr>\n",
       "      <th>...</th>\n",
       "      <td>...</td>\n",
       "      <td>...</td>\n",
       "      <td>...</td>\n",
       "      <td>...</td>\n",
       "      <td>...</td>\n",
       "      <td>...</td>\n",
       "      <td>...</td>\n",
       "      <td>...</td>\n",
       "      <td>...</td>\n",
       "      <td>...</td>\n",
       "      <td>...</td>\n",
       "      <td>...</td>\n",
       "      <td>...</td>\n",
       "      <td>...</td>\n",
       "      <td>...</td>\n",
       "      <td>...</td>\n",
       "      <td>...</td>\n",
       "      <td>...</td>\n",
       "      <td>...</td>\n",
       "      <td>...</td>\n",
       "      <td>...</td>\n",
       "    </tr>\n",
       "    <tr>\n",
       "      <th>TGGCACCTCCAACA-8</th>\n",
       "      <td>-0.326</td>\n",
       "      <td>-0.191</td>\n",
       "      <td>0.372</td>\n",
       "      <td>-0.584</td>\n",
       "      <td>-0.174</td>\n",
       "      <td>0.509</td>\n",
       "      <td>-0.451</td>\n",
       "      <td>2.160</td>\n",
       "      <td>-0.459</td>\n",
       "      <td>0.751</td>\n",
       "      <td>...</td>\n",
       "      <td>-0.532</td>\n",
       "      <td>1.758</td>\n",
       "      <td>1.578</td>\n",
       "      <td>0.055</td>\n",
       "      <td>-0.585</td>\n",
       "      <td>0.561</td>\n",
       "      <td>-0.21</td>\n",
       "      <td>0.543</td>\n",
       "      <td>2.593</td>\n",
       "      <td>Dendritic</td>\n",
       "    </tr>\n",
       "    <tr>\n",
       "      <th>TGTGAGTGCTTTAC-8</th>\n",
       "      <td>3.166</td>\n",
       "      <td>-0.191</td>\n",
       "      <td>-0.728</td>\n",
       "      <td>-1.200</td>\n",
       "      <td>-0.174</td>\n",
       "      <td>-0.531</td>\n",
       "      <td>-0.451</td>\n",
       "      <td>-0.486</td>\n",
       "      <td>-0.459</td>\n",
       "      <td>1.536</td>\n",
       "      <td>...</td>\n",
       "      <td>-0.532</td>\n",
       "      <td>-0.341</td>\n",
       "      <td>0.432</td>\n",
       "      <td>0.753</td>\n",
       "      <td>-0.585</td>\n",
       "      <td>-0.171</td>\n",
       "      <td>-0.21</td>\n",
       "      <td>1.268</td>\n",
       "      <td>-0.490</td>\n",
       "      <td>Dendritic</td>\n",
       "    </tr>\n",
       "    <tr>\n",
       "      <th>TGTTACTGGCGATT-8</th>\n",
       "      <td>-0.326</td>\n",
       "      <td>-0.191</td>\n",
       "      <td>-0.728</td>\n",
       "      <td>-1.200</td>\n",
       "      <td>-0.174</td>\n",
       "      <td>1.784</td>\n",
       "      <td>-0.451</td>\n",
       "      <td>-0.486</td>\n",
       "      <td>-0.459</td>\n",
       "      <td>-0.525</td>\n",
       "      <td>...</td>\n",
       "      <td>-0.532</td>\n",
       "      <td>-0.341</td>\n",
       "      <td>1.858</td>\n",
       "      <td>0.814</td>\n",
       "      <td>-0.585</td>\n",
       "      <td>0.152</td>\n",
       "      <td>-0.21</td>\n",
       "      <td>-0.636</td>\n",
       "      <td>1.226</td>\n",
       "      <td>CD4+/CD25 T Reg</td>\n",
       "    </tr>\n",
       "    <tr>\n",
       "      <th>TTCAGTACCGGGAA-8</th>\n",
       "      <td>-0.326</td>\n",
       "      <td>-0.191</td>\n",
       "      <td>-0.728</td>\n",
       "      <td>-0.386</td>\n",
       "      <td>-0.174</td>\n",
       "      <td>-0.531</td>\n",
       "      <td>-0.451</td>\n",
       "      <td>-0.486</td>\n",
       "      <td>-0.459</td>\n",
       "      <td>-0.525</td>\n",
       "      <td>...</td>\n",
       "      <td>-0.532</td>\n",
       "      <td>-0.341</td>\n",
       "      <td>2.378</td>\n",
       "      <td>0.420</td>\n",
       "      <td>0.888</td>\n",
       "      <td>-0.326</td>\n",
       "      <td>-0.21</td>\n",
       "      <td>-0.636</td>\n",
       "      <td>-0.490</td>\n",
       "      <td>CD19+ B</td>\n",
       "    </tr>\n",
       "    <tr>\n",
       "      <th>TTGAGGTGGAGAGC-8</th>\n",
       "      <td>-0.326</td>\n",
       "      <td>-0.191</td>\n",
       "      <td>0.148</td>\n",
       "      <td>0.762</td>\n",
       "      <td>-0.174</td>\n",
       "      <td>0.298</td>\n",
       "      <td>-0.451</td>\n",
       "      <td>-0.486</td>\n",
       "      <td>0.505</td>\n",
       "      <td>-0.525</td>\n",
       "      <td>...</td>\n",
       "      <td>-0.532</td>\n",
       "      <td>-0.341</td>\n",
       "      <td>1.073</td>\n",
       "      <td>-0.628</td>\n",
       "      <td>-0.585</td>\n",
       "      <td>0.239</td>\n",
       "      <td>-0.21</td>\n",
       "      <td>-0.636</td>\n",
       "      <td>-0.490</td>\n",
       "      <td>Dendritic</td>\n",
       "    </tr>\n",
       "  </tbody>\n",
       "</table>\n",
       "<p>700 rows × 766 columns</p>\n",
       "</div>"
      ],
      "text/plain": [
       "                   HES4  TNFRSF4  SSU72  PARK7   RBP7    SRM  MAD2L2  AGTRAP  \\\n",
       "AAAGCCTGGCTAAC-1 -0.326   -0.191 -0.728 -0.301  3.386 -0.531   2.016   3.377   \n",
       "AAATTCGATGCACA-1  1.171   -0.191  0.795 -1.200 -0.174 -0.531   1.889  -0.486   \n",
       "AACACGTGGTCTTT-1 -0.326   -0.191  0.483 -1.200 -0.174 -0.531  -0.451   0.971   \n",
       "AAGTGCACGTGCTA-1 -0.326   -0.191  1.134 -0.157 -0.174 -0.531  -0.451  -0.486   \n",
       "ACACGAACGGAGTG-1 -0.326   -0.191 -0.728 -0.607 -0.174 -0.531  -0.451   0.787   \n",
       "...                 ...      ...    ...    ...    ...    ...     ...     ...   \n",
       "TGGCACCTCCAACA-8 -0.326   -0.191  0.372 -0.584 -0.174  0.509  -0.451   2.160   \n",
       "TGTGAGTGCTTTAC-8  3.166   -0.191 -0.728 -1.200 -0.174 -0.531  -0.451  -0.486   \n",
       "TGTTACTGGCGATT-8 -0.326   -0.191 -0.728 -1.200 -0.174  1.784  -0.451  -0.486   \n",
       "TTCAGTACCGGGAA-8 -0.326   -0.191 -0.728 -0.386 -0.174 -0.531  -0.451  -0.486   \n",
       "TTGAGGTGGAGAGC-8 -0.326   -0.191  0.148  0.762 -0.174  0.298  -0.451  -0.486   \n",
       "\n",
       "                  TNFRSF1B  EFHD2  ...  MRPS6   TTC3  U2AF1   CSTB  SUMO3  \\\n",
       "AAAGCCTGGCTAAC-1     4.841 -0.525  ... -0.532 -0.341  0.303  1.404  4.294   \n",
       "AAATTCGATGCACA-1    -0.459 -0.525  ... -0.532 -0.341 -0.905  2.849 -0.585   \n",
       "AACACGTGGTCTTT-1    -0.459  2.286  ...  2.606 -0.341 -0.905 -0.455 -0.585   \n",
       "AAGTGCACGTGCTA-1    -0.459 -0.525  ... -0.532 -0.341 -0.905 -0.119 -0.585   \n",
       "ACACGAACGGAGTG-1    -0.459  1.932  ...  0.839  1.679 -0.108 -0.534 -0.585   \n",
       "...                    ...    ...  ...    ...    ...    ...    ...    ...   \n",
       "TGGCACCTCCAACA-8    -0.459  0.751  ... -0.532  1.758  1.578  0.055 -0.585   \n",
       "TGTGAGTGCTTTAC-8    -0.459  1.536  ... -0.532 -0.341  0.432  0.753 -0.585   \n",
       "TGTTACTGGCGATT-8    -0.459 -0.525  ... -0.532 -0.341  1.858  0.814 -0.585   \n",
       "TTCAGTACCGGGAA-8    -0.459 -0.525  ... -0.532 -0.341  2.378  0.420  0.888   \n",
       "TTGAGGTGGAGAGC-8     0.505 -0.525  ... -0.532 -0.341  1.073 -0.628 -0.585   \n",
       "\n",
       "                  ITGB2  S100B  PRMT2  MT-ND3      bulk_labels  \n",
       "AAAGCCTGGCTAAC-1  0.519  -0.21 -0.636   4.011   CD14+ Monocyte  \n",
       "AAATTCGATGCACA-1  1.172  -0.21  2.630  -0.490        Dendritic  \n",
       "AACACGTGGTCTTT-1  0.722  -0.21  0.663  -0.490         CD56+ NK  \n",
       "AAGTGCACGTGCTA-1  0.766  -0.21 -0.636  -0.490  CD4+/CD25 T Reg  \n",
       "ACACGAACGGAGTG-1 -0.007  -0.21 -0.636  -0.490        Dendritic  \n",
       "...                 ...    ...    ...     ...              ...  \n",
       "TGGCACCTCCAACA-8  0.561  -0.21  0.543   2.593        Dendritic  \n",
       "TGTGAGTGCTTTAC-8 -0.171  -0.21  1.268  -0.490        Dendritic  \n",
       "TGTTACTGGCGATT-8  0.152  -0.21 -0.636   1.226  CD4+/CD25 T Reg  \n",
       "TTCAGTACCGGGAA-8 -0.326  -0.21 -0.636  -0.490          CD19+ B  \n",
       "TTGAGGTGGAGAGC-8  0.239  -0.21 -0.636  -0.490        Dendritic  \n",
       "\n",
       "[700 rows x 766 columns]"
      ]
     },
     "execution_count": 7,
     "metadata": {},
     "output_type": "execute_result"
    }
   ],
   "source": [
    "labels_pd.index = labels_pd['index']\n",
    "labels_pd.drop(\"index\", axis=1, inplace=True)\n",
    "counts_pd.index = counts_pd['Unnamed: 0']\n",
    "counts_pd.drop(\"Unnamed: 0\", axis=1, inplace=True)\n",
    "\n",
    "df = counts_pd.merge(labels_pd, left_index=True, right_index=True).dropna()\n",
    "df"
   ]
  },
  {
   "cell_type": "markdown",
   "metadata": {
    "id": "wUxSCyz7jBQf"
   },
   "source": [
    "One-hot encode the cell-type.\n",
    "\n",
    "Shuffle your data. Make sure your labels and the counts are shuffled together.\n",
    "\n",
    "Split into train and test sets (80:20 split)"
   ]
  },
  {
   "cell_type": "code",
   "execution_count": 8,
   "metadata": {},
   "outputs": [],
   "source": [
    "latent_df = pd.read_csv(\"latent_representation.csv\")\n",
    "latent_df.drop(columns=[\"Unnamed: 0\"], inplace=True)"
   ]
  },
  {
   "cell_type": "code",
   "execution_count": 9,
   "metadata": {},
   "outputs": [],
   "source": [
    "latent_array = latent_df.to_numpy()"
   ]
  },
  {
   "cell_type": "code",
   "execution_count": 10,
   "metadata": {
    "colab": {
     "base_uri": "https://localhost:8080/"
    },
    "id": "XDTqBhcA7V8t",
    "outputId": "f30f081b-ccb4-4076-f774-f31c4f240951"
   },
   "outputs": [],
   "source": [
    "categories = df['bulk_labels'].unique()\n",
    "\n",
    "#one-hot encoding\n",
    "y = np.zeros((len(df), len(categories)))\n",
    "\n",
    "for i in range(len(df)):\n",
    "  cell_type = df.iloc[i]['bulk_labels']\n",
    "  pos = np.where(categories == cell_type)[0]\n",
    "  y[i, pos] = 1\n",
    "\n",
    "#remove label when processing input data\n",
    "X = df.drop('bulk_labels', axis=1).values\n",
    "\n",
    "#shufle and 80:20 split\n",
    "np.random.seed(100)\n",
    "permutation = np.random.permutation(len(X))\n",
    "X, y, latent_array = X[permutation], y[permutation], latent_array[permutation]\n",
    "\n",
    "X_train, y_train = X[:int(len(X)*0.8)], y[:int(len(y)*0.8)]\n",
    "X_test, y_test = X[int(len(X)*0.8):], y[int(len(y)*0.8):]\n",
    "latent_train, latent_test = latent_array[:int(len(X)*0.8)], latent_array[int(len(y)*0.8):]"
   ]
  },
  {
   "cell_type": "code",
   "execution_count": 11,
   "metadata": {},
   "outputs": [
    {
     "data": {
      "text/html": [
       "<div>\n",
       "<style scoped>\n",
       "    .dataframe tbody tr th:only-of-type {\n",
       "        vertical-align: middle;\n",
       "    }\n",
       "\n",
       "    .dataframe tbody tr th {\n",
       "        vertical-align: top;\n",
       "    }\n",
       "\n",
       "    .dataframe thead th {\n",
       "        text-align: right;\n",
       "    }\n",
       "</style>\n",
       "<table border=\"1\" class=\"dataframe\">\n",
       "  <thead>\n",
       "    <tr style=\"text-align: right;\">\n",
       "      <th></th>\n",
       "      <th>0</th>\n",
       "      <th>1</th>\n",
       "      <th>2</th>\n",
       "      <th>3</th>\n",
       "      <th>4</th>\n",
       "      <th>5</th>\n",
       "      <th>6</th>\n",
       "      <th>7</th>\n",
       "      <th>8</th>\n",
       "      <th>9</th>\n",
       "      <th>...</th>\n",
       "      <th>35</th>\n",
       "      <th>36</th>\n",
       "      <th>37</th>\n",
       "      <th>38</th>\n",
       "      <th>39</th>\n",
       "      <th>40</th>\n",
       "      <th>41</th>\n",
       "      <th>42</th>\n",
       "      <th>43</th>\n",
       "      <th>44</th>\n",
       "    </tr>\n",
       "  </thead>\n",
       "  <tbody>\n",
       "    <tr>\n",
       "      <th>0</th>\n",
       "      <td>-0.326</td>\n",
       "      <td>-0.191</td>\n",
       "      <td>-0.728</td>\n",
       "      <td>0.375</td>\n",
       "      <td>-0.174</td>\n",
       "      <td>-0.531</td>\n",
       "      <td>1.710</td>\n",
       "      <td>-0.486</td>\n",
       "      <td>-0.459</td>\n",
       "      <td>-0.525</td>\n",
       "      <td>...</td>\n",
       "      <td>0.064882</td>\n",
       "      <td>-2.359975</td>\n",
       "      <td>2.232984</td>\n",
       "      <td>5.303487</td>\n",
       "      <td>-0.981008</td>\n",
       "      <td>3.087867</td>\n",
       "      <td>-2.417512</td>\n",
       "      <td>-3.950907</td>\n",
       "      <td>-3.104018</td>\n",
       "      <td>3.471118</td>\n",
       "    </tr>\n",
       "    <tr>\n",
       "      <th>1</th>\n",
       "      <td>-0.326</td>\n",
       "      <td>-0.191</td>\n",
       "      <td>-0.728</td>\n",
       "      <td>-1.200</td>\n",
       "      <td>-0.174</td>\n",
       "      <td>0.691</td>\n",
       "      <td>-0.451</td>\n",
       "      <td>-0.486</td>\n",
       "      <td>-0.459</td>\n",
       "      <td>-0.525</td>\n",
       "      <td>...</td>\n",
       "      <td>-2.964453</td>\n",
       "      <td>1.594163</td>\n",
       "      <td>1.603910</td>\n",
       "      <td>1.458206</td>\n",
       "      <td>-3.061286</td>\n",
       "      <td>0.645878</td>\n",
       "      <td>-2.188636</td>\n",
       "      <td>-1.651977</td>\n",
       "      <td>0.521314</td>\n",
       "      <td>1.938147</td>\n",
       "    </tr>\n",
       "    <tr>\n",
       "      <th>2</th>\n",
       "      <td>-0.326</td>\n",
       "      <td>-0.191</td>\n",
       "      <td>0.320</td>\n",
       "      <td>-0.613</td>\n",
       "      <td>-0.174</td>\n",
       "      <td>-0.531</td>\n",
       "      <td>-0.451</td>\n",
       "      <td>-0.486</td>\n",
       "      <td>-0.459</td>\n",
       "      <td>0.691</td>\n",
       "      <td>...</td>\n",
       "      <td>0.680070</td>\n",
       "      <td>-3.355320</td>\n",
       "      <td>1.459155</td>\n",
       "      <td>1.541266</td>\n",
       "      <td>-0.128698</td>\n",
       "      <td>0.498195</td>\n",
       "      <td>-0.867867</td>\n",
       "      <td>1.152113</td>\n",
       "      <td>-2.234277</td>\n",
       "      <td>2.132838</td>\n",
       "    </tr>\n",
       "    <tr>\n",
       "      <th>3</th>\n",
       "      <td>-0.326</td>\n",
       "      <td>1.640</td>\n",
       "      <td>0.110</td>\n",
       "      <td>-0.731</td>\n",
       "      <td>-0.174</td>\n",
       "      <td>-0.531</td>\n",
       "      <td>0.836</td>\n",
       "      <td>-0.486</td>\n",
       "      <td>-0.459</td>\n",
       "      <td>-0.525</td>\n",
       "      <td>...</td>\n",
       "      <td>-7.127238</td>\n",
       "      <td>-6.457777</td>\n",
       "      <td>9.019987</td>\n",
       "      <td>6.443376</td>\n",
       "      <td>-2.159585</td>\n",
       "      <td>5.330588</td>\n",
       "      <td>4.119626</td>\n",
       "      <td>-2.183872</td>\n",
       "      <td>3.172332</td>\n",
       "      <td>4.568752</td>\n",
       "    </tr>\n",
       "    <tr>\n",
       "      <th>4</th>\n",
       "      <td>-0.326</td>\n",
       "      <td>-0.191</td>\n",
       "      <td>0.576</td>\n",
       "      <td>0.260</td>\n",
       "      <td>-0.174</td>\n",
       "      <td>-0.531</td>\n",
       "      <td>-0.451</td>\n",
       "      <td>-0.486</td>\n",
       "      <td>-0.459</td>\n",
       "      <td>-0.525</td>\n",
       "      <td>...</td>\n",
       "      <td>-3.110375</td>\n",
       "      <td>-4.617243</td>\n",
       "      <td>2.740579</td>\n",
       "      <td>8.774049</td>\n",
       "      <td>0.957565</td>\n",
       "      <td>6.045087</td>\n",
       "      <td>-0.778974</td>\n",
       "      <td>-2.623011</td>\n",
       "      <td>-1.999282</td>\n",
       "      <td>-2.249030</td>\n",
       "    </tr>\n",
       "    <tr>\n",
       "      <th>...</th>\n",
       "      <td>...</td>\n",
       "      <td>...</td>\n",
       "      <td>...</td>\n",
       "      <td>...</td>\n",
       "      <td>...</td>\n",
       "      <td>...</td>\n",
       "      <td>...</td>\n",
       "      <td>...</td>\n",
       "      <td>...</td>\n",
       "      <td>...</td>\n",
       "      <td>...</td>\n",
       "      <td>...</td>\n",
       "      <td>...</td>\n",
       "      <td>...</td>\n",
       "      <td>...</td>\n",
       "      <td>...</td>\n",
       "      <td>...</td>\n",
       "      <td>...</td>\n",
       "      <td>...</td>\n",
       "      <td>...</td>\n",
       "      <td>...</td>\n",
       "    </tr>\n",
       "    <tr>\n",
       "      <th>555</th>\n",
       "      <td>-0.326</td>\n",
       "      <td>-0.191</td>\n",
       "      <td>-0.728</td>\n",
       "      <td>0.276</td>\n",
       "      <td>-0.174</td>\n",
       "      <td>-0.531</td>\n",
       "      <td>-0.451</td>\n",
       "      <td>-0.486</td>\n",
       "      <td>-0.459</td>\n",
       "      <td>2.534</td>\n",
       "      <td>...</td>\n",
       "      <td>0.565915</td>\n",
       "      <td>0.309669</td>\n",
       "      <td>1.906296</td>\n",
       "      <td>0.422028</td>\n",
       "      <td>-2.278503</td>\n",
       "      <td>-0.543559</td>\n",
       "      <td>-2.073390</td>\n",
       "      <td>2.055158</td>\n",
       "      <td>-0.117071</td>\n",
       "      <td>2.731335</td>\n",
       "    </tr>\n",
       "    <tr>\n",
       "      <th>556</th>\n",
       "      <td>-0.326</td>\n",
       "      <td>-0.191</td>\n",
       "      <td>-0.728</td>\n",
       "      <td>-0.067</td>\n",
       "      <td>-0.174</td>\n",
       "      <td>0.426</td>\n",
       "      <td>-0.451</td>\n",
       "      <td>-0.486</td>\n",
       "      <td>-0.459</td>\n",
       "      <td>0.649</td>\n",
       "      <td>...</td>\n",
       "      <td>0.277233</td>\n",
       "      <td>-1.172398</td>\n",
       "      <td>1.426048</td>\n",
       "      <td>1.939338</td>\n",
       "      <td>-0.432162</td>\n",
       "      <td>-0.967366</td>\n",
       "      <td>-2.088274</td>\n",
       "      <td>1.605170</td>\n",
       "      <td>-0.695945</td>\n",
       "      <td>1.319830</td>\n",
       "    </tr>\n",
       "    <tr>\n",
       "      <th>557</th>\n",
       "      <td>3.762</td>\n",
       "      <td>-0.191</td>\n",
       "      <td>0.658</td>\n",
       "      <td>-0.424</td>\n",
       "      <td>-0.174</td>\n",
       "      <td>-0.531</td>\n",
       "      <td>-0.451</td>\n",
       "      <td>1.182</td>\n",
       "      <td>4.118</td>\n",
       "      <td>-0.525</td>\n",
       "      <td>...</td>\n",
       "      <td>3.480452</td>\n",
       "      <td>-5.362995</td>\n",
       "      <td>-2.396745</td>\n",
       "      <td>6.404522</td>\n",
       "      <td>5.226812</td>\n",
       "      <td>1.705387</td>\n",
       "      <td>-3.846255</td>\n",
       "      <td>2.862423</td>\n",
       "      <td>0.454755</td>\n",
       "      <td>3.748932</td>\n",
       "    </tr>\n",
       "    <tr>\n",
       "      <th>558</th>\n",
       "      <td>1.006</td>\n",
       "      <td>-0.191</td>\n",
       "      <td>1.981</td>\n",
       "      <td>1.075</td>\n",
       "      <td>-0.174</td>\n",
       "      <td>0.751</td>\n",
       "      <td>-0.451</td>\n",
       "      <td>1.144</td>\n",
       "      <td>1.032</td>\n",
       "      <td>-0.525</td>\n",
       "      <td>...</td>\n",
       "      <td>-0.345656</td>\n",
       "      <td>-0.087103</td>\n",
       "      <td>0.271789</td>\n",
       "      <td>0.200430</td>\n",
       "      <td>0.121875</td>\n",
       "      <td>0.504685</td>\n",
       "      <td>-1.585380</td>\n",
       "      <td>0.341423</td>\n",
       "      <td>0.694441</td>\n",
       "      <td>2.105765</td>\n",
       "    </tr>\n",
       "    <tr>\n",
       "      <th>559</th>\n",
       "      <td>-0.326</td>\n",
       "      <td>-0.191</td>\n",
       "      <td>1.887</td>\n",
       "      <td>0.264</td>\n",
       "      <td>-0.174</td>\n",
       "      <td>-0.531</td>\n",
       "      <td>1.558</td>\n",
       "      <td>-0.486</td>\n",
       "      <td>-0.459</td>\n",
       "      <td>-0.525</td>\n",
       "      <td>...</td>\n",
       "      <td>-3.937449</td>\n",
       "      <td>0.636289</td>\n",
       "      <td>3.034514</td>\n",
       "      <td>2.251518</td>\n",
       "      <td>-2.953034</td>\n",
       "      <td>1.799832</td>\n",
       "      <td>-0.677287</td>\n",
       "      <td>-0.499474</td>\n",
       "      <td>-0.495624</td>\n",
       "      <td>2.971013</td>\n",
       "    </tr>\n",
       "  </tbody>\n",
       "</table>\n",
       "<p>560 rows × 810 columns</p>\n",
       "</div>"
      ],
      "text/plain": [
       "        0      1      2      3      4      5      6      7      8      9   \\\n",
       "0   -0.326 -0.191 -0.728  0.375 -0.174 -0.531  1.710 -0.486 -0.459 -0.525   \n",
       "1   -0.326 -0.191 -0.728 -1.200 -0.174  0.691 -0.451 -0.486 -0.459 -0.525   \n",
       "2   -0.326 -0.191  0.320 -0.613 -0.174 -0.531 -0.451 -0.486 -0.459  0.691   \n",
       "3   -0.326  1.640  0.110 -0.731 -0.174 -0.531  0.836 -0.486 -0.459 -0.525   \n",
       "4   -0.326 -0.191  0.576  0.260 -0.174 -0.531 -0.451 -0.486 -0.459 -0.525   \n",
       "..     ...    ...    ...    ...    ...    ...    ...    ...    ...    ...   \n",
       "555 -0.326 -0.191 -0.728  0.276 -0.174 -0.531 -0.451 -0.486 -0.459  2.534   \n",
       "556 -0.326 -0.191 -0.728 -0.067 -0.174  0.426 -0.451 -0.486 -0.459  0.649   \n",
       "557  3.762 -0.191  0.658 -0.424 -0.174 -0.531 -0.451  1.182  4.118 -0.525   \n",
       "558  1.006 -0.191  1.981  1.075 -0.174  0.751 -0.451  1.144  1.032 -0.525   \n",
       "559 -0.326 -0.191  1.887  0.264 -0.174 -0.531  1.558 -0.486 -0.459 -0.525   \n",
       "\n",
       "     ...        35        36        37        38        39        40  \\\n",
       "0    ...  0.064882 -2.359975  2.232984  5.303487 -0.981008  3.087867   \n",
       "1    ... -2.964453  1.594163  1.603910  1.458206 -3.061286  0.645878   \n",
       "2    ...  0.680070 -3.355320  1.459155  1.541266 -0.128698  0.498195   \n",
       "3    ... -7.127238 -6.457777  9.019987  6.443376 -2.159585  5.330588   \n",
       "4    ... -3.110375 -4.617243  2.740579  8.774049  0.957565  6.045087   \n",
       "..   ...       ...       ...       ...       ...       ...       ...   \n",
       "555  ...  0.565915  0.309669  1.906296  0.422028 -2.278503 -0.543559   \n",
       "556  ...  0.277233 -1.172398  1.426048  1.939338 -0.432162 -0.967366   \n",
       "557  ...  3.480452 -5.362995 -2.396745  6.404522  5.226812  1.705387   \n",
       "558  ... -0.345656 -0.087103  0.271789  0.200430  0.121875  0.504685   \n",
       "559  ... -3.937449  0.636289  3.034514  2.251518 -2.953034  1.799832   \n",
       "\n",
       "           41        42        43        44  \n",
       "0   -2.417512 -3.950907 -3.104018  3.471118  \n",
       "1   -2.188636 -1.651977  0.521314  1.938147  \n",
       "2   -0.867867  1.152113 -2.234277  2.132838  \n",
       "3    4.119626 -2.183872  3.172332  4.568752  \n",
       "4   -0.778974 -2.623011 -1.999282 -2.249030  \n",
       "..        ...       ...       ...       ...  \n",
       "555 -2.073390  2.055158 -0.117071  2.731335  \n",
       "556 -2.088274  1.605170 -0.695945  1.319830  \n",
       "557 -3.846255  2.862423  0.454755  3.748932  \n",
       "558 -1.585380  0.341423  0.694441  2.105765  \n",
       "559 -0.677287 -0.499474 -0.495624  2.971013  \n",
       "\n",
       "[560 rows x 810 columns]"
      ]
     },
     "execution_count": 11,
     "metadata": {},
     "output_type": "execute_result"
    }
   ],
   "source": [
    "X_with_latent = pd.concat([pd.DataFrame(X_train), pd.DataFrame(latent_train)], axis=1)\n",
    "X_with_latent_test = pd.concat([pd.DataFrame(X_test), pd.DataFrame(latent_test)], axis=1)\n",
    "X_with_latent"
   ]
  },
  {
   "cell_type": "code",
   "execution_count": 12,
   "metadata": {},
   "outputs": [],
   "source": [
    "X_with_latent.columns = [i for i in range(len(X_with_latent.columns))]\n",
    "X_with_latent_test.columns = [i for i in range(len(X_with_latent_test.columns))]"
   ]
  },
  {
   "cell_type": "code",
   "execution_count": 13,
   "metadata": {
    "colab": {
     "base_uri": "https://localhost:8080/",
     "height": 854
    },
    "id": "l0Xrhu4LZNa9",
    "outputId": "0c62d1cb-7cfc-4e11-ec81-0a5b474f116f"
   },
   "outputs": [
    {
     "data": {
      "text/plain": [
       "<matplotlib.image.AxesImage at 0x2101ce0df10>"
      ]
     },
     "execution_count": 13,
     "metadata": {},
     "output_type": "execute_result"
    },
    {
     "data": {
      "image/png": "[encoded data removed]",
      "text/plain": [
       "<Figure size 2700x900 with 1 Axes>"
      ]
     },
     "metadata": {
      "needs_background": "light"
     },
     "output_type": "display_data"
    }
   ],
   "source": [
    "#Visualize the One-hot encoded Prediction Labels\n",
    "import matplotlib.pyplot as plt\n",
    "plt.figure(figsize=(9,3), dpi=300)\n",
    "plt.imshow(y_train[:50])"
   ]
  },
  {
   "cell_type": "markdown",
   "metadata": {
    "id": "XHIg7i1k7U-G"
   },
   "source": [
    "Apply classification algorithms to the training data, tune on validation data (if present), and evaluate on test data.\n",
    "\n",
    "You can also apply classification downstream of last week's autoencoder latent space representation."
   ]
  },
  {
   "cell_type": "code",
   "execution_count": 14,
   "metadata": {
    "id": "b8mvigLP7Sej"
   },
   "outputs": [],
   "source": [
    "from sklearn.linear_model import LogisticRegression\n",
    "from sklearn.svm import LinearSVC, SVC\n",
    "from sklearn.tree import DecisionTreeClassifier\n",
    "from sklearn.ensemble import RandomForestClassifier\n",
    "from sklearn.model_selection import GridSearchCV"
   ]
  },
  {
   "cell_type": "code",
   "execution_count": 15,
   "metadata": {},
   "outputs": [],
   "source": [
    "def plot_class_distributions(y1, y2):\n",
    "    plt.figure(figsize=(8,8))\n",
    "    a1 =list(np.bincount(y1) + np.bincount(y2))\n",
    "    a2 = [\"class \"+str(i) for i in range(1, len(a1)+1)]\n",
    "    plt.pie(a1, labels=a2)\n",
    "    plt.show()"
   ]
  },
  {
   "cell_type": "code",
   "execution_count": 16,
   "metadata": {},
   "outputs": [],
   "source": [
    "y_train_idx = np.argmax(y_train, axis=1)\n",
    "y_test_idx = np.argmax(y_test, axis=1)\n",
    "y_full = np.argmax(y, axis=1)"
   ]
  },
  {
   "cell_type": "code",
   "execution_count": 17,
   "metadata": {},
   "outputs": [
    {
     "data": {
      "image/png": "[encoded data removed]",
      "text/plain": [
       "<Figure size 576x576 with 1 Axes>"
      ]
     },
     "metadata": {},
     "output_type": "display_data"
    }
   ],
   "source": [
    "plot_class_distributions(y_train_idx, y_test_idx)"
   ]
  },
  {
   "cell_type": "markdown",
   "metadata": {},
   "source": [
    "#### Random Forest"
   ]
  },
  {
   "cell_type": "code",
   "execution_count": 110,
   "metadata": {
    "id": "Gk1sfdNe76Kl"
   },
   "outputs": [],
   "source": [
    "param_random_forest = {\n",
    "    \"n_estimators\": [300, 1000, 1300, 1500],\n",
    "    \"criterion\": [\"gini\", \"entropy\", \"log_loss\"],\n",
    "    \"max_depth\": list(range(5, 23, 2)),\n",
    "    \"class_weight\": [\"balanced_subsample\"],\n",
    "}\n",
    "\n",
    "\n",
    "param_logistic_reg = [\n",
    "    {'solver': ['lbfgs', 'newton-cg', 'sag'], 'penalty': ['l2'], 'C': [0.1, 1, 10]},\n",
    "    {'solver': ['saga'], 'penalty': ['elasticnet'], 'C': [0.1, 1, 10], 'l1_ratio': [0.3, 0.5, 0.7]},\n",
    "    {'solver': ['saga'], 'penalty': ['l1', 'l2'], 'C': [0.1, 1, 10]}\n",
    "]"
   ]
  },
  {
   "cell_type": "code",
   "execution_count": 111,
   "metadata": {
    "id": "u4Q6KU3c8u-E"
   },
   "outputs": [],
   "source": [
    "grid_random_forest = GridSearchCV(\n",
    "    RandomForestClassifier(random_state=42),\n",
    "    param_grid=param_random_forest,\n",
    "    n_jobs=-1,\n",
    "    cv=5,\n",
    "    scoring='f1_weighted'\n",
    ")"
   ]
  },
  {
   "cell_type": "code",
   "execution_count": 37,
   "metadata": {
    "id": "7Trjfxkk8wyg"
   },
   "outputs": [
    {
     "data": {
      "text/html": [
       "<style>#sk-container-id-3 {color: black;}#sk-container-id-3 pre{padding: 0;}#sk-container-id-3 div.sk-toggleable {background-color: white;}#sk-container-id-3 label.sk-toggleable__label {cursor: pointer;display: block;width: 100%;margin-bottom: 0;padding: 0.3em;box-sizing: border-box;text-align: center;}#sk-container-id-3 label.sk-toggleable__label-arrow:before {content: \"▸\";float: left;margin-right: 0.25em;color: #696969;}#sk-container-id-3 label.sk-toggleable__label-arrow:hover:before {color: black;}#sk-container-id-3 div.sk-estimator:hover label.sk-toggleable__label-arrow:before {color: black;}#sk-container-id-3 div.sk-toggleable__content {max-height: 0;max-width: 0;overflow: hidden;text-align: left;background-color: #f0f8ff;}#sk-container-id-3 div.sk-toggleable__content pre {margin: 0.2em;color: black;border-radius: 0.25em;background-color: #f0f8ff;}#sk-container-id-3 input.sk-toggleable__control:checked~div.sk-toggleable__content {max-height: 200px;max-width: 100%;overflow: auto;}#sk-container-id-3 input.sk-toggleable__control:checked~label.sk-toggleable__label-arrow:before {content: \"▾\";}#sk-container-id-3 div.sk-estimator input.sk-toggleable__control:checked~label.sk-toggleable__label {background-color: #d4ebff;}#sk-container-id-3 div.sk-label input.sk-toggleable__control:checked~label.sk-toggleable__label {background-color: #d4ebff;}#sk-container-id-3 input.sk-hidden--visually {border: 0;clip: rect(1px 1px 1px 1px);clip: rect(1px, 1px, 1px, 1px);height: 1px;margin: -1px;overflow: hidden;padding: 0;position: absolute;width: 1px;}#sk-container-id-3 div.sk-estimator {font-family: monospace;background-color: #f0f8ff;border: 1px dotted black;border-radius: 0.25em;box-sizing: border-box;margin-bottom: 0.5em;}#sk-container-id-3 div.sk-estimator:hover {background-color: #d4ebff;}#sk-container-id-3 div.sk-parallel-item::after {content: \"\";width: 100%;border-bottom: 1px solid gray;flex-grow: 1;}#sk-container-id-3 div.sk-label:hover label.sk-toggleable__label {background-color: #d4ebff;}#sk-container-id-3 div.sk-serial::before {content: \"\";position: absolute;border-left: 1px solid gray;box-sizing: border-box;top: 0;bottom: 0;left: 50%;z-index: 0;}#sk-container-id-3 div.sk-serial {display: flex;flex-direction: column;align-items: center;background-color: white;padding-right: 0.2em;padding-left: 0.2em;position: relative;}#sk-container-id-3 div.sk-item {position: relative;z-index: 1;}#sk-container-id-3 div.sk-parallel {display: flex;align-items: stretch;justify-content: center;background-color: white;position: relative;}#sk-container-id-3 div.sk-item::before, #sk-container-id-3 div.sk-parallel-item::before {content: \"\";position: absolute;border-left: 1px solid gray;box-sizing: border-box;top: 0;bottom: 0;left: 50%;z-index: -1;}#sk-container-id-3 div.sk-parallel-item {display: flex;flex-direction: column;z-index: 1;position: relative;background-color: white;}#sk-container-id-3 div.sk-parallel-item:first-child::after {align-self: flex-end;width: 50%;}#sk-container-id-3 div.sk-parallel-item:last-child::after {align-self: flex-start;width: 50%;}#sk-container-id-3 div.sk-parallel-item:only-child::after {width: 0;}#sk-container-id-3 div.sk-dashed-wrapped {border: 1px dashed gray;margin: 0 0.4em 0.5em 0.4em;box-sizing: border-box;padding-bottom: 0.4em;background-color: white;}#sk-container-id-3 div.sk-label label {font-family: monospace;font-weight: bold;display: inline-block;line-height: 1.2em;}#sk-container-id-3 div.sk-label-container {text-align: center;}#sk-container-id-3 div.sk-container {/* jupyter's `normalize.less` sets `[hidden] { display: none; }` but bootstrap.min.css set `[hidden] { display: none !important; }` so we also need the `!important` here to be able to override the default hidden behavior on the sphinx rendered scikit-learn.org. See: https://github.com/scikit-learn/scikit-learn/issues/21755 */display: inline-block !important;position: relative;}#sk-container-id-3 div.sk-text-repr-fallback {display: none;}</style><div id=\"sk-container-id-3\" class=\"sk-top-container\"><div class=\"sk-text-repr-fallback\"><pre>GridSearchCV(cv=5, estimator=RandomForestClassifier(random_state=42), n_jobs=-1,\n",
       "             param_grid={&#x27;class_weight&#x27;: [&#x27;balanced_subsample&#x27;],\n",
       "                         &#x27;criterion&#x27;: [&#x27;gini&#x27;, &#x27;entropy&#x27;, &#x27;log_loss&#x27;],\n",
       "                         &#x27;max_depth&#x27;: [5, 7, 9, 11, 13, 15, 17, 19, 21],\n",
       "                         &#x27;n_estimators&#x27;: [300, 1000, 1300, 1500]},\n",
       "             scoring=&#x27;f1_weighted&#x27;)</pre><b>In a Jupyter environment, please rerun this cell to show the HTML representation or trust the notebook. <br />On GitHub, the HTML representation is unable to render, please try loading this page with nbviewer.org.</b></div><div class=\"sk-container\" hidden><div class=\"sk-item sk-dashed-wrapped\"><div class=\"sk-label-container\"><div class=\"sk-label sk-toggleable\"><input class=\"sk-toggleable__control sk-hidden--visually\" id=\"sk-estimator-id-7\" type=\"checkbox\" ><label for=\"sk-estimator-id-7\" class=\"sk-toggleable__label sk-toggleable__label-arrow\">GridSearchCV</label><div class=\"sk-toggleable__content\"><pre>GridSearchCV(cv=5, estimator=RandomForestClassifier(random_state=42), n_jobs=-1,\n",
       "             param_grid={&#x27;class_weight&#x27;: [&#x27;balanced_subsample&#x27;],\n",
       "                         &#x27;criterion&#x27;: [&#x27;gini&#x27;, &#x27;entropy&#x27;, &#x27;log_loss&#x27;],\n",
       "                         &#x27;max_depth&#x27;: [5, 7, 9, 11, 13, 15, 17, 19, 21],\n",
       "                         &#x27;n_estimators&#x27;: [300, 1000, 1300, 1500]},\n",
       "             scoring=&#x27;f1_weighted&#x27;)</pre></div></div></div><div class=\"sk-parallel\"><div class=\"sk-parallel-item\"><div class=\"sk-item\"><div class=\"sk-label-container\"><div class=\"sk-label sk-toggleable\"><input class=\"sk-toggleable__control sk-hidden--visually\" id=\"sk-estimator-id-8\" type=\"checkbox\" ><label for=\"sk-estimator-id-8\" class=\"sk-toggleable__label sk-toggleable__label-arrow\">estimator: RandomForestClassifier</label><div class=\"sk-toggleable__content\"><pre>RandomForestClassifier(random_state=42)</pre></div></div></div><div class=\"sk-serial\"><div class=\"sk-item\"><div class=\"sk-estimator sk-toggleable\"><input class=\"sk-toggleable__control sk-hidden--visually\" id=\"sk-estimator-id-9\" type=\"checkbox\" ><label for=\"sk-estimator-id-9\" class=\"sk-toggleable__label sk-toggleable__label-arrow\">RandomForestClassifier</label><div class=\"sk-toggleable__content\"><pre>RandomForestClassifier(random_state=42)</pre></div></div></div></div></div></div></div></div></div></div>"
      ],
      "text/plain": [
       "GridSearchCV(cv=5, estimator=RandomForestClassifier(random_state=42), n_jobs=-1,\n",
       "             param_grid={'class_weight': ['balanced_subsample'],\n",
       "                         'criterion': ['gini', 'entropy', 'log_loss'],\n",
       "                         'max_depth': [5, 7, 9, 11, 13, 15, 17, 19, 21],\n",
       "                         'n_estimators': [300, 1000, 1300, 1500]},\n",
       "             scoring='f1_weighted')"
      ]
     },
     "execution_count": 37,
     "metadata": {},
     "output_type": "execute_result"
    }
   ],
   "source": [
    "grid_random_forest.fit(X=X_train, y=y_train_idx)"
   ]
  },
  {
   "cell_type": "code",
   "execution_count": 38,
   "metadata": {
    "id": "jGa5B6Ir9KN4"
   },
   "outputs": [],
   "source": [
    "RF_top_5 = pd.DataFrame(grid_random_forest.cv_results_).sort_values(\"rank_test_score\").head(5)"
   ]
  },
  {
   "cell_type": "code",
   "execution_count": 43,
   "metadata": {},
   "outputs": [],
   "source": [
    "params = RF_top_5.iloc[0, ][\"params\"]"
   ]
  },
  {
   "cell_type": "code",
   "execution_count": 40,
   "metadata": {
    "id": "I2xcMPP09KxV"
   },
   "outputs": [
    {
     "data": {
      "text/html": [
       "<div>\n",
       "<style scoped>\n",
       "    .dataframe tbody tr th:only-of-type {\n",
       "        vertical-align: middle;\n",
       "    }\n",
       "\n",
       "    .dataframe tbody tr th {\n",
       "        vertical-align: top;\n",
       "    }\n",
       "\n",
       "    .dataframe thead th {\n",
       "        text-align: right;\n",
       "    }\n",
       "</style>\n",
       "<table border=\"1\" class=\"dataframe\">\n",
       "  <thead>\n",
       "    <tr style=\"text-align: right;\">\n",
       "      <th></th>\n",
       "      <th>mean_fit_time</th>\n",
       "      <th>std_fit_time</th>\n",
       "      <th>mean_score_time</th>\n",
       "      <th>std_score_time</th>\n",
       "      <th>param_class_weight</th>\n",
       "      <th>param_criterion</th>\n",
       "      <th>param_max_depth</th>\n",
       "      <th>param_n_estimators</th>\n",
       "      <th>params</th>\n",
       "      <th>split0_test_score</th>\n",
       "      <th>split1_test_score</th>\n",
       "      <th>split2_test_score</th>\n",
       "      <th>split3_test_score</th>\n",
       "      <th>split4_test_score</th>\n",
       "      <th>mean_test_score</th>\n",
       "      <th>std_test_score</th>\n",
       "      <th>rank_test_score</th>\n",
       "    </tr>\n",
       "  </thead>\n",
       "  <tbody>\n",
       "    <tr>\n",
       "      <th>8</th>\n",
       "      <td>4.654668</td>\n",
       "      <td>0.207474</td>\n",
       "      <td>0.035377</td>\n",
       "      <td>0.002621</td>\n",
       "      <td>balanced_subsample</td>\n",
       "      <td>gini</td>\n",
       "      <td>9</td>\n",
       "      <td>300</td>\n",
       "      <td>{'class_weight': 'balanced_subsample', 'criter...</td>\n",
       "      <td>0.793377</td>\n",
       "      <td>0.750228</td>\n",
       "      <td>0.830324</td>\n",
       "      <td>0.761182</td>\n",
       "      <td>0.823800</td>\n",
       "      <td>0.791782</td>\n",
       "      <td>0.032176</td>\n",
       "      <td>1</td>\n",
       "    </tr>\n",
       "    <tr>\n",
       "      <th>9</th>\n",
       "      <td>14.618578</td>\n",
       "      <td>0.289734</td>\n",
       "      <td>0.112474</td>\n",
       "      <td>0.013019</td>\n",
       "      <td>balanced_subsample</td>\n",
       "      <td>gini</td>\n",
       "      <td>9</td>\n",
       "      <td>1000</td>\n",
       "      <td>{'class_weight': 'balanced_subsample', 'criter...</td>\n",
       "      <td>0.793386</td>\n",
       "      <td>0.741535</td>\n",
       "      <td>0.822119</td>\n",
       "      <td>0.761182</td>\n",
       "      <td>0.823800</td>\n",
       "      <td>0.788404</td>\n",
       "      <td>0.032718</td>\n",
       "      <td>2</td>\n",
       "    </tr>\n",
       "    <tr>\n",
       "      <th>11</th>\n",
       "      <td>19.094051</td>\n",
       "      <td>0.215760</td>\n",
       "      <td>0.135683</td>\n",
       "      <td>0.013179</td>\n",
       "      <td>balanced_subsample</td>\n",
       "      <td>gini</td>\n",
       "      <td>9</td>\n",
       "      <td>1500</td>\n",
       "      <td>{'class_weight': 'balanced_subsample', 'criter...</td>\n",
       "      <td>0.784632</td>\n",
       "      <td>0.750228</td>\n",
       "      <td>0.830324</td>\n",
       "      <td>0.761182</td>\n",
       "      <td>0.815197</td>\n",
       "      <td>0.788313</td>\n",
       "      <td>0.030620</td>\n",
       "      <td>3</td>\n",
       "    </tr>\n",
       "    <tr>\n",
       "      <th>17</th>\n",
       "      <td>14.739736</td>\n",
       "      <td>0.136258</td>\n",
       "      <td>0.109316</td>\n",
       "      <td>0.014819</td>\n",
       "      <td>balanced_subsample</td>\n",
       "      <td>gini</td>\n",
       "      <td>13</td>\n",
       "      <td>1000</td>\n",
       "      <td>{'class_weight': 'balanced_subsample', 'criter...</td>\n",
       "      <td>0.793572</td>\n",
       "      <td>0.750228</td>\n",
       "      <td>0.811947</td>\n",
       "      <td>0.756261</td>\n",
       "      <td>0.825162</td>\n",
       "      <td>0.787434</td>\n",
       "      <td>0.029725</td>\n",
       "      <td>4</td>\n",
       "    </tr>\n",
       "    <tr>\n",
       "      <th>10</th>\n",
       "      <td>17.498477</td>\n",
       "      <td>0.753055</td>\n",
       "      <td>0.118482</td>\n",
       "      <td>0.007047</td>\n",
       "      <td>balanced_subsample</td>\n",
       "      <td>gini</td>\n",
       "      <td>9</td>\n",
       "      <td>1300</td>\n",
       "      <td>{'class_weight': 'balanced_subsample', 'criter...</td>\n",
       "      <td>0.793386</td>\n",
       "      <td>0.750228</td>\n",
       "      <td>0.814358</td>\n",
       "      <td>0.761182</td>\n",
       "      <td>0.815197</td>\n",
       "      <td>0.786870</td>\n",
       "      <td>0.026844</td>\n",
       "      <td>5</td>\n",
       "    </tr>\n",
       "  </tbody>\n",
       "</table>\n",
       "</div>"
      ],
      "text/plain": [
       "    mean_fit_time  std_fit_time  mean_score_time  std_score_time  \\\n",
       "8        4.654668      0.207474         0.035377        0.002621   \n",
       "9       14.618578      0.289734         0.112474        0.013019   \n",
       "11      19.094051      0.215760         0.135683        0.013179   \n",
       "17      14.739736      0.136258         0.109316        0.014819   \n",
       "10      17.498477      0.753055         0.118482        0.007047   \n",
       "\n",
       "    param_class_weight param_criterion param_max_depth param_n_estimators  \\\n",
       "8   balanced_subsample            gini               9                300   \n",
       "9   balanced_subsample            gini               9               1000   \n",
       "11  balanced_subsample            gini               9               1500   \n",
       "17  balanced_subsample            gini              13               1000   \n",
       "10  balanced_subsample            gini               9               1300   \n",
       "\n",
       "                                               params  split0_test_score  \\\n",
       "8   {'class_weight': 'balanced_subsample', 'criter...           0.793377   \n",
       "9   {'class_weight': 'balanced_subsample', 'criter...           0.793386   \n",
       "11  {'class_weight': 'balanced_subsample', 'criter...           0.784632   \n",
       "17  {'class_weight': 'balanced_subsample', 'criter...           0.793572   \n",
       "10  {'class_weight': 'balanced_subsample', 'criter...           0.793386   \n",
       "\n",
       "    split1_test_score  split2_test_score  split3_test_score  \\\n",
       "8            0.750228           0.830324           0.761182   \n",
       "9            0.741535           0.822119           0.761182   \n",
       "11           0.750228           0.830324           0.761182   \n",
       "17           0.750228           0.811947           0.756261   \n",
       "10           0.750228           0.814358           0.761182   \n",
       "\n",
       "    split4_test_score  mean_test_score  std_test_score  rank_test_score  \n",
       "8            0.823800         0.791782        0.032176                1  \n",
       "9            0.823800         0.788404        0.032718                2  \n",
       "11           0.815197         0.788313        0.030620                3  \n",
       "17           0.825162         0.787434        0.029725                4  \n",
       "10           0.815197         0.786870        0.026844                5  "
      ]
     },
     "execution_count": 40,
     "metadata": {},
     "output_type": "execute_result"
    }
   ],
   "source": [
    "RF_top_5"
   ]
  },
  {
   "cell_type": "code",
   "execution_count": 41,
   "metadata": {},
   "outputs": [
    {
     "data": {
      "text/plain": [
       "0.7917823593287978"
      ]
     },
     "execution_count": 41,
     "metadata": {},
     "output_type": "execute_result"
    }
   ],
   "source": [
    "grid_random_forest.best_score_"
   ]
  },
  {
   "cell_type": "code",
   "execution_count": 66,
   "metadata": {},
   "outputs": [],
   "source": [
    "RF = RandomForestClassifier(n_estimators=1000, \n",
    "                            criterion=\"gini\", \n",
    "                            max_depth=9, \n",
    "                            class_weight=\"balanced\",n_jobs=-1)"
   ]
  },
  {
   "cell_type": "code",
   "execution_count": 67,
   "metadata": {},
   "outputs": [],
   "source": [
    "model = RF.fit(X_train, y_train_idx)"
   ]
  },
  {
   "cell_type": "code",
   "execution_count": 68,
   "metadata": {},
   "outputs": [
    {
     "data": {
      "text/plain": [
       "array([[27,  3,  0,  0,  0,  0,  0,  0,  0,  0],\n",
       "       [ 6, 44,  0,  0,  0,  0,  0,  0,  0,  0],\n",
       "       [ 0,  0,  5,  0,  0,  1,  0,  0,  0,  0],\n",
       "       [ 0,  0,  0, 10,  0,  0,  0,  0,  0,  0],\n",
       "       [ 0,  0,  0,  0, 15,  0,  0,  0,  0,  0],\n",
       "       [ 1,  2,  1,  1,  0,  8,  0,  1,  0,  0],\n",
       "       [ 0,  0,  0,  0,  0,  1,  0,  0,  0,  0],\n",
       "       [ 0,  0,  0,  2,  0,  2,  0,  5,  0,  0],\n",
       "       [ 0,  0,  0,  2,  0,  0,  0,  0,  0,  0],\n",
       "       [ 0,  1,  0,  0,  0,  0,  0,  0,  0,  2]], dtype=int64)"
      ]
     },
     "execution_count": 68,
     "metadata": {},
     "output_type": "execute_result"
    }
   ],
   "source": [
    "outputs = model.predict(X_test)\n",
    "cm = confusion_matrix(y_test_idx, outputs)\n",
    "cm"
   ]
  },
  {
   "cell_type": "code",
   "execution_count": 69,
   "metadata": {},
   "outputs": [
    {
     "data": {
      "image/png": "[encoded data removed]",
      "text/plain": [
       "<Figure size 432x288 with 2 Axes>"
      ]
     },
     "metadata": {
      "needs_background": "light"
     },
     "output_type": "display_data"
    }
   ],
   "source": [
    "disp = ConfusionMatrixDisplay(confusion_matrix=cm)\n",
    "disp.plot(cmap=\"Blues\")\n",
    "plt.title(\"Confusion Matrix\")\n",
    "plt.show()"
   ]
  },
  {
   "cell_type": "code",
   "execution_count": 73,
   "metadata": {},
   "outputs": [
    {
     "name": "stdout",
     "output_type": "stream",
     "text": [
      "Weighted F1 Score: 0.8166277472527472\n"
     ]
    }
   ],
   "source": [
    "f1 = f1_score(y_test_idx, outputs, average='weighted')\n",
    "print(\"Weighted F1 Score:\", f1)"
   ]
  },
  {
   "cell_type": "markdown",
   "metadata": {},
   "source": [
    "#### Logistic Regression"
   ]
  },
  {
   "cell_type": "code",
   "execution_count": 156,
   "metadata": {},
   "outputs": [],
   "source": [
    "lg_results_Array = [[], [], []]"
   ]
  },
  {
   "cell_type": "code",
   "execution_count": 157,
   "metadata": {},
   "outputs": [
    {
     "name": "stderr",
     "output_type": "stream",
     "text": [
      "c:\\users\\cagin\\appdata\\local\\programs\\python\\python39\\lib\\site-packages\\sklearn\\linear_model\\_logistic.py:460: ConvergenceWarning: lbfgs failed to converge (status=1):\n",
      "STOP: TOTAL NO. of ITERATIONS REACHED LIMIT.\n",
      "\n",
      "Increase the number of iterations (max_iter) or scale the data as shown in:\n",
      "    https://scikit-learn.org/stable/modules/preprocessing.html\n",
      "Please also refer to the documentation for alternative solver options:\n",
      "    https://scikit-learn.org/stable/modules/linear_model.html#logistic-regression\n",
      "  n_iter_i = _check_optimize_result(\n"
     ]
    },
    {
     "data": {
      "text/html": [
       "<style>#sk-container-id-14 {color: black;}#sk-container-id-14 pre{padding: 0;}#sk-container-id-14 div.sk-toggleable {background-color: white;}#sk-container-id-14 label.sk-toggleable__label {cursor: pointer;display: block;width: 100%;margin-bottom: 0;padding: 0.3em;box-sizing: border-box;text-align: center;}#sk-container-id-14 label.sk-toggleable__label-arrow:before {content: \"▸\";float: left;margin-right: 0.25em;color: #696969;}#sk-container-id-14 label.sk-toggleable__label-arrow:hover:before {color: black;}#sk-container-id-14 div.sk-estimator:hover label.sk-toggleable__label-arrow:before {color: black;}#sk-container-id-14 div.sk-toggleable__content {max-height: 0;max-width: 0;overflow: hidden;text-align: left;background-color: #f0f8ff;}#sk-container-id-14 div.sk-toggleable__content pre {margin: 0.2em;color: black;border-radius: 0.25em;background-color: #f0f8ff;}#sk-container-id-14 input.sk-toggleable__control:checked~div.sk-toggleable__content {max-height: 200px;max-width: 100%;overflow: auto;}#sk-container-id-14 input.sk-toggleable__control:checked~label.sk-toggleable__label-arrow:before {content: \"▾\";}#sk-container-id-14 div.sk-estimator input.sk-toggleable__control:checked~label.sk-toggleable__label {background-color: #d4ebff;}#sk-container-id-14 div.sk-label input.sk-toggleable__control:checked~label.sk-toggleable__label {background-color: #d4ebff;}#sk-container-id-14 input.sk-hidden--visually {border: 0;clip: rect(1px 1px 1px 1px);clip: rect(1px, 1px, 1px, 1px);height: 1px;margin: -1px;overflow: hidden;padding: 0;position: absolute;width: 1px;}#sk-container-id-14 div.sk-estimator {font-family: monospace;background-color: #f0f8ff;border: 1px dotted black;border-radius: 0.25em;box-sizing: border-box;margin-bottom: 0.5em;}#sk-container-id-14 div.sk-estimator:hover {background-color: #d4ebff;}#sk-container-id-14 div.sk-parallel-item::after {content: \"\";width: 100%;border-bottom: 1px solid gray;flex-grow: 1;}#sk-container-id-14 div.sk-label:hover label.sk-toggleable__label {background-color: #d4ebff;}#sk-container-id-14 div.sk-serial::before {content: \"\";position: absolute;border-left: 1px solid gray;box-sizing: border-box;top: 0;bottom: 0;left: 50%;z-index: 0;}#sk-container-id-14 div.sk-serial {display: flex;flex-direction: column;align-items: center;background-color: white;padding-right: 0.2em;padding-left: 0.2em;position: relative;}#sk-container-id-14 div.sk-item {position: relative;z-index: 1;}#sk-container-id-14 div.sk-parallel {display: flex;align-items: stretch;justify-content: center;background-color: white;position: relative;}#sk-container-id-14 div.sk-item::before, #sk-container-id-14 div.sk-parallel-item::before {content: \"\";position: absolute;border-left: 1px solid gray;box-sizing: border-box;top: 0;bottom: 0;left: 50%;z-index: -1;}#sk-container-id-14 div.sk-parallel-item {display: flex;flex-direction: column;z-index: 1;position: relative;background-color: white;}#sk-container-id-14 div.sk-parallel-item:first-child::after {align-self: flex-end;width: 50%;}#sk-container-id-14 div.sk-parallel-item:last-child::after {align-self: flex-start;width: 50%;}#sk-container-id-14 div.sk-parallel-item:only-child::after {width: 0;}#sk-container-id-14 div.sk-dashed-wrapped {border: 1px dashed gray;margin: 0 0.4em 0.5em 0.4em;box-sizing: border-box;padding-bottom: 0.4em;background-color: white;}#sk-container-id-14 div.sk-label label {font-family: monospace;font-weight: bold;display: inline-block;line-height: 1.2em;}#sk-container-id-14 div.sk-label-container {text-align: center;}#sk-container-id-14 div.sk-container {/* jupyter's `normalize.less` sets `[hidden] { display: none; }` but bootstrap.min.css set `[hidden] { display: none !important; }` so we also need the `!important` here to be able to override the default hidden behavior on the sphinx rendered scikit-learn.org. See: https://github.com/scikit-learn/scikit-learn/issues/21755 */display: inline-block !important;position: relative;}#sk-container-id-14 div.sk-text-repr-fallback {display: none;}</style><div id=\"sk-container-id-14\" class=\"sk-top-container\"><div class=\"sk-text-repr-fallback\"><pre>GridSearchCV(cv=5, estimator=LogisticRegression(), n_jobs=-1,\n",
       "             param_grid=[{&#x27;C&#x27;: [0.1, 1, 10], &#x27;penalty&#x27;: [&#x27;l2&#x27;],\n",
       "                          &#x27;solver&#x27;: [&#x27;lbfgs&#x27;, &#x27;newton-cg&#x27;, &#x27;sag&#x27;]},\n",
       "                         {&#x27;C&#x27;: [0.1, 1, 10], &#x27;l1_ratio&#x27;: [0.3, 0.5, 0.7],\n",
       "                          &#x27;penalty&#x27;: [&#x27;elasticnet&#x27;], &#x27;solver&#x27;: [&#x27;saga&#x27;]},\n",
       "                         {&#x27;C&#x27;: [0.1, 1, 10], &#x27;penalty&#x27;: [&#x27;l1&#x27;, &#x27;l2&#x27;],\n",
       "                          &#x27;solver&#x27;: [&#x27;saga&#x27;]}],\n",
       "             scoring=&#x27;f1_weighted&#x27;)</pre><b>In a Jupyter environment, please rerun this cell to show the HTML representation or trust the notebook. <br />On GitHub, the HTML representation is unable to render, please try loading this page with nbviewer.org.</b></div><div class=\"sk-container\" hidden><div class=\"sk-item sk-dashed-wrapped\"><div class=\"sk-label-container\"><div class=\"sk-label sk-toggleable\"><input class=\"sk-toggleable__control sk-hidden--visually\" id=\"sk-estimator-id-36\" type=\"checkbox\" ><label for=\"sk-estimator-id-36\" class=\"sk-toggleable__label sk-toggleable__label-arrow\">GridSearchCV</label><div class=\"sk-toggleable__content\"><pre>GridSearchCV(cv=5, estimator=LogisticRegression(), n_jobs=-1,\n",
       "             param_grid=[{&#x27;C&#x27;: [0.1, 1, 10], &#x27;penalty&#x27;: [&#x27;l2&#x27;],\n",
       "                          &#x27;solver&#x27;: [&#x27;lbfgs&#x27;, &#x27;newton-cg&#x27;, &#x27;sag&#x27;]},\n",
       "                         {&#x27;C&#x27;: [0.1, 1, 10], &#x27;l1_ratio&#x27;: [0.3, 0.5, 0.7],\n",
       "                          &#x27;penalty&#x27;: [&#x27;elasticnet&#x27;], &#x27;solver&#x27;: [&#x27;saga&#x27;]},\n",
       "                         {&#x27;C&#x27;: [0.1, 1, 10], &#x27;penalty&#x27;: [&#x27;l1&#x27;, &#x27;l2&#x27;],\n",
       "                          &#x27;solver&#x27;: [&#x27;saga&#x27;]}],\n",
       "             scoring=&#x27;f1_weighted&#x27;)</pre></div></div></div><div class=\"sk-parallel\"><div class=\"sk-parallel-item\"><div class=\"sk-item\"><div class=\"sk-label-container\"><div class=\"sk-label sk-toggleable\"><input class=\"sk-toggleable__control sk-hidden--visually\" id=\"sk-estimator-id-37\" type=\"checkbox\" ><label for=\"sk-estimator-id-37\" class=\"sk-toggleable__label sk-toggleable__label-arrow\">estimator: LogisticRegression</label><div class=\"sk-toggleable__content\"><pre>LogisticRegression()</pre></div></div></div><div class=\"sk-serial\"><div class=\"sk-item\"><div class=\"sk-estimator sk-toggleable\"><input class=\"sk-toggleable__control sk-hidden--visually\" id=\"sk-estimator-id-38\" type=\"checkbox\" ><label for=\"sk-estimator-id-38\" class=\"sk-toggleable__label sk-toggleable__label-arrow\">LogisticRegression</label><div class=\"sk-toggleable__content\"><pre>LogisticRegression()</pre></div></div></div></div></div></div></div></div></div></div>"
      ],
      "text/plain": [
       "GridSearchCV(cv=5, estimator=LogisticRegression(), n_jobs=-1,\n",
       "             param_grid=[{'C': [0.1, 1, 10], 'penalty': ['l2'],\n",
       "                          'solver': ['lbfgs', 'newton-cg', 'sag']},\n",
       "                         {'C': [0.1, 1, 10], 'l1_ratio': [0.3, 0.5, 0.7],\n",
       "                          'penalty': ['elasticnet'], 'solver': ['saga']},\n",
       "                         {'C': [0.1, 1, 10], 'penalty': ['l1', 'l2'],\n",
       "                          'solver': ['saga']}],\n",
       "             scoring='f1_weighted')"
      ]
     },
     "execution_count": 157,
     "metadata": {},
     "output_type": "execute_result"
    }
   ],
   "source": [
    "lr = LogisticRegression()\n",
    "grid_search_LR = GridSearchCV(lr, \n",
    "                              param_grid=param_logistic_reg,\n",
    "                             n_jobs=-1,\n",
    "                             cv=5,\n",
    "                             scoring=\"f1_weighted\")\n",
    "grid_search_LR.fit(X=X_train, y=y_train_idx)"
   ]
  },
  {
   "cell_type": "code",
   "execution_count": 158,
   "metadata": {},
   "outputs": [
    {
     "data": {
      "text/plain": [
       "0.806878219172494"
      ]
     },
     "execution_count": 158,
     "metadata": {},
     "output_type": "execute_result"
    }
   ],
   "source": [
    "grid_search_LR.best_score_"
   ]
  },
  {
   "cell_type": "code",
   "execution_count": 159,
   "metadata": {},
   "outputs": [],
   "source": [
    "lg_results_Array[0].append(grid_search_LR.best_score_)\n",
    "lg_results_Array[1].append(\"1st try\")\n",
    "lg_results_Array[2].append(grid_search_LR.best_params_)"
   ]
  },
  {
   "cell_type": "code",
   "execution_count": 116,
   "metadata": {},
   "outputs": [],
   "source": [
    "LR_top_5 = pd.DataFrame(grid_search_LR.cv_results_).sort_values(\"rank_test_score\").head(5)"
   ]
  },
  {
   "cell_type": "code",
   "execution_count": 117,
   "metadata": {},
   "outputs": [
    {
     "data": {
      "text/plain": [
       "{'C': 1, 'penalty': 'l2', 'solver': 'lbfgs'}"
      ]
     },
     "execution_count": 117,
     "metadata": {},
     "output_type": "execute_result"
    }
   ],
   "source": [
    "LR_top_5.iloc[0, ][\"params\"]"
   ]
  },
  {
   "cell_type": "code",
   "execution_count": 118,
   "metadata": {},
   "outputs": [
    {
     "data": {
      "text/html": [
       "<div>\n",
       "<style scoped>\n",
       "    .dataframe tbody tr th:only-of-type {\n",
       "        vertical-align: middle;\n",
       "    }\n",
       "\n",
       "    .dataframe tbody tr th {\n",
       "        vertical-align: top;\n",
       "    }\n",
       "\n",
       "    .dataframe thead th {\n",
       "        text-align: right;\n",
       "    }\n",
       "</style>\n",
       "<table border=\"1\" class=\"dataframe\">\n",
       "  <thead>\n",
       "    <tr style=\"text-align: right;\">\n",
       "      <th></th>\n",
       "      <th>mean_fit_time</th>\n",
       "      <th>std_fit_time</th>\n",
       "      <th>mean_score_time</th>\n",
       "      <th>std_score_time</th>\n",
       "      <th>param_C</th>\n",
       "      <th>param_penalty</th>\n",
       "      <th>param_solver</th>\n",
       "      <th>param_l1_ratio</th>\n",
       "      <th>params</th>\n",
       "      <th>split0_test_score</th>\n",
       "      <th>split1_test_score</th>\n",
       "      <th>split2_test_score</th>\n",
       "      <th>split3_test_score</th>\n",
       "      <th>split4_test_score</th>\n",
       "      <th>mean_test_score</th>\n",
       "      <th>std_test_score</th>\n",
       "      <th>rank_test_score</th>\n",
       "    </tr>\n",
       "  </thead>\n",
       "  <tbody>\n",
       "    <tr>\n",
       "      <th>3</th>\n",
       "      <td>0.249412</td>\n",
       "      <td>0.007403</td>\n",
       "      <td>0.002777</td>\n",
       "      <td>0.000393</td>\n",
       "      <td>1</td>\n",
       "      <td>l2</td>\n",
       "      <td>lbfgs</td>\n",
       "      <td>NaN</td>\n",
       "      <td>{'C': 1, 'penalty': 'l2', 'solver': 'lbfgs'}</td>\n",
       "      <td>0.819333</td>\n",
       "      <td>0.771006</td>\n",
       "      <td>0.815303</td>\n",
       "      <td>0.814734</td>\n",
       "      <td>0.814016</td>\n",
       "      <td>0.806878</td>\n",
       "      <td>0.018031</td>\n",
       "      <td>1</td>\n",
       "    </tr>\n",
       "    <tr>\n",
       "      <th>4</th>\n",
       "      <td>0.325800</td>\n",
       "      <td>0.038925</td>\n",
       "      <td>0.002398</td>\n",
       "      <td>0.000491</td>\n",
       "      <td>1</td>\n",
       "      <td>l2</td>\n",
       "      <td>newton-cg</td>\n",
       "      <td>NaN</td>\n",
       "      <td>{'C': 1, 'penalty': 'l2', 'solver': 'newton-cg'}</td>\n",
       "      <td>0.819333</td>\n",
       "      <td>0.771006</td>\n",
       "      <td>0.815303</td>\n",
       "      <td>0.814734</td>\n",
       "      <td>0.814016</td>\n",
       "      <td>0.806878</td>\n",
       "      <td>0.018031</td>\n",
       "      <td>1</td>\n",
       "    </tr>\n",
       "    <tr>\n",
       "      <th>0</th>\n",
       "      <td>0.320425</td>\n",
       "      <td>0.004297</td>\n",
       "      <td>0.003335</td>\n",
       "      <td>0.000569</td>\n",
       "      <td>0.1</td>\n",
       "      <td>l2</td>\n",
       "      <td>lbfgs</td>\n",
       "      <td>NaN</td>\n",
       "      <td>{'C': 0.1, 'penalty': 'l2', 'solver': 'lbfgs'}</td>\n",
       "      <td>0.819333</td>\n",
       "      <td>0.771006</td>\n",
       "      <td>0.814993</td>\n",
       "      <td>0.814429</td>\n",
       "      <td>0.814016</td>\n",
       "      <td>0.806755</td>\n",
       "      <td>0.017976</td>\n",
       "      <td>3</td>\n",
       "    </tr>\n",
       "    <tr>\n",
       "      <th>1</th>\n",
       "      <td>0.397920</td>\n",
       "      <td>0.038906</td>\n",
       "      <td>0.002889</td>\n",
       "      <td>0.000602</td>\n",
       "      <td>0.1</td>\n",
       "      <td>l2</td>\n",
       "      <td>newton-cg</td>\n",
       "      <td>NaN</td>\n",
       "      <td>{'C': 0.1, 'penalty': 'l2', 'solver': 'newton-...</td>\n",
       "      <td>0.819333</td>\n",
       "      <td>0.771006</td>\n",
       "      <td>0.814993</td>\n",
       "      <td>0.814429</td>\n",
       "      <td>0.814016</td>\n",
       "      <td>0.806755</td>\n",
       "      <td>0.017976</td>\n",
       "      <td>3</td>\n",
       "    </tr>\n",
       "    <tr>\n",
       "      <th>7</th>\n",
       "      <td>0.292960</td>\n",
       "      <td>0.005115</td>\n",
       "      <td>0.002399</td>\n",
       "      <td>0.000490</td>\n",
       "      <td>10</td>\n",
       "      <td>l2</td>\n",
       "      <td>newton-cg</td>\n",
       "      <td>NaN</td>\n",
       "      <td>{'C': 10, 'penalty': 'l2', 'solver': 'newton-cg'}</td>\n",
       "      <td>0.807515</td>\n",
       "      <td>0.754049</td>\n",
       "      <td>0.813998</td>\n",
       "      <td>0.814734</td>\n",
       "      <td>0.814016</td>\n",
       "      <td>0.800862</td>\n",
       "      <td>0.023553</td>\n",
       "      <td>5</td>\n",
       "    </tr>\n",
       "  </tbody>\n",
       "</table>\n",
       "</div>"
      ],
      "text/plain": [
       "   mean_fit_time  std_fit_time  mean_score_time  std_score_time param_C  \\\n",
       "3       0.249412      0.007403         0.002777        0.000393       1   \n",
       "4       0.325800      0.038925         0.002398        0.000491       1   \n",
       "0       0.320425      0.004297         0.003335        0.000569     0.1   \n",
       "1       0.397920      0.038906         0.002889        0.000602     0.1   \n",
       "7       0.292960      0.005115         0.002399        0.000490      10   \n",
       "\n",
       "  param_penalty param_solver param_l1_ratio  \\\n",
       "3            l2        lbfgs            NaN   \n",
       "4            l2    newton-cg            NaN   \n",
       "0            l2        lbfgs            NaN   \n",
       "1            l2    newton-cg            NaN   \n",
       "7            l2    newton-cg            NaN   \n",
       "\n",
       "                                              params  split0_test_score  \\\n",
       "3       {'C': 1, 'penalty': 'l2', 'solver': 'lbfgs'}           0.819333   \n",
       "4   {'C': 1, 'penalty': 'l2', 'solver': 'newton-cg'}           0.819333   \n",
       "0     {'C': 0.1, 'penalty': 'l2', 'solver': 'lbfgs'}           0.819333   \n",
       "1  {'C': 0.1, 'penalty': 'l2', 'solver': 'newton-...           0.819333   \n",
       "7  {'C': 10, 'penalty': 'l2', 'solver': 'newton-cg'}           0.807515   \n",
       "\n",
       "   split1_test_score  split2_test_score  split3_test_score  split4_test_score  \\\n",
       "3           0.771006           0.815303           0.814734           0.814016   \n",
       "4           0.771006           0.815303           0.814734           0.814016   \n",
       "0           0.771006           0.814993           0.814429           0.814016   \n",
       "1           0.771006           0.814993           0.814429           0.814016   \n",
       "7           0.754049           0.813998           0.814734           0.814016   \n",
       "\n",
       "   mean_test_score  std_test_score  rank_test_score  \n",
       "3         0.806878        0.018031                1  \n",
       "4         0.806878        0.018031                1  \n",
       "0         0.806755        0.017976                3  \n",
       "1         0.806755        0.017976                3  \n",
       "7         0.800862        0.023553                5  "
      ]
     },
     "execution_count": 118,
     "metadata": {},
     "output_type": "execute_result"
    }
   ],
   "source": [
    "LR_top_5"
   ]
  },
  {
   "cell_type": "code",
   "execution_count": 84,
   "metadata": {},
   "outputs": [],
   "source": [
    "# we can see that nearly all of the top ones are C=1, so lets do it around C=1 this time\n",
    "# param_solver is either newton-cg or lbfgs for the top 5 \n",
    "# and because of its dependence on solver, penalty is l2 automatically. \n",
    "# So, lets makes our boundaries smaller."
   ]
  },
  {
   "cell_type": "code",
   "execution_count": 119,
   "metadata": {},
   "outputs": [],
   "source": [
    "param_logistic_reg_2 = [\n",
    "    {'solver': ['lbfgs', 'newton-cg'], 'penalty': ['l2'], 'C': [0.1, 0.2, 0.3, 0.4, 0.5, 0.6, 0.7, 0.8, 0.9, 1,\n",
    "                                                                1.1, 1.2, 1.3, 1.4, 1.5, 1.6, 1.7, 1.8, 1.9]},\n",
    "]"
   ]
  },
  {
   "cell_type": "code",
   "execution_count": 121,
   "metadata": {},
   "outputs": [
    {
     "name": "stderr",
     "output_type": "stream",
     "text": [
      "c:\\users\\cagin\\appdata\\local\\programs\\python\\python39\\lib\\site-packages\\sklearn\\linear_model\\_logistic.py:460: ConvergenceWarning: lbfgs failed to converge (status=1):\n",
      "STOP: TOTAL NO. of ITERATIONS REACHED LIMIT.\n",
      "\n",
      "Increase the number of iterations (max_iter) or scale the data as shown in:\n",
      "    https://scikit-learn.org/stable/modules/preprocessing.html\n",
      "Please also refer to the documentation for alternative solver options:\n",
      "    https://scikit-learn.org/stable/modules/linear_model.html#logistic-regression\n",
      "  n_iter_i = _check_optimize_result(\n"
     ]
    },
    {
     "data": {
      "text/html": [
       "<style>#sk-container-id-11 {color: black;}#sk-container-id-11 pre{padding: 0;}#sk-container-id-11 div.sk-toggleable {background-color: white;}#sk-container-id-11 label.sk-toggleable__label {cursor: pointer;display: block;width: 100%;margin-bottom: 0;padding: 0.3em;box-sizing: border-box;text-align: center;}#sk-container-id-11 label.sk-toggleable__label-arrow:before {content: \"▸\";float: left;margin-right: 0.25em;color: #696969;}#sk-container-id-11 label.sk-toggleable__label-arrow:hover:before {color: black;}#sk-container-id-11 div.sk-estimator:hover label.sk-toggleable__label-arrow:before {color: black;}#sk-container-id-11 div.sk-toggleable__content {max-height: 0;max-width: 0;overflow: hidden;text-align: left;background-color: #f0f8ff;}#sk-container-id-11 div.sk-toggleable__content pre {margin: 0.2em;color: black;border-radius: 0.25em;background-color: #f0f8ff;}#sk-container-id-11 input.sk-toggleable__control:checked~div.sk-toggleable__content {max-height: 200px;max-width: 100%;overflow: auto;}#sk-container-id-11 input.sk-toggleable__control:checked~label.sk-toggleable__label-arrow:before {content: \"▾\";}#sk-container-id-11 div.sk-estimator input.sk-toggleable__control:checked~label.sk-toggleable__label {background-color: #d4ebff;}#sk-container-id-11 div.sk-label input.sk-toggleable__control:checked~label.sk-toggleable__label {background-color: #d4ebff;}#sk-container-id-11 input.sk-hidden--visually {border: 0;clip: rect(1px 1px 1px 1px);clip: rect(1px, 1px, 1px, 1px);height: 1px;margin: -1px;overflow: hidden;padding: 0;position: absolute;width: 1px;}#sk-container-id-11 div.sk-estimator {font-family: monospace;background-color: #f0f8ff;border: 1px dotted black;border-radius: 0.25em;box-sizing: border-box;margin-bottom: 0.5em;}#sk-container-id-11 div.sk-estimator:hover {background-color: #d4ebff;}#sk-container-id-11 div.sk-parallel-item::after {content: \"\";width: 100%;border-bottom: 1px solid gray;flex-grow: 1;}#sk-container-id-11 div.sk-label:hover label.sk-toggleable__label {background-color: #d4ebff;}#sk-container-id-11 div.sk-serial::before {content: \"\";position: absolute;border-left: 1px solid gray;box-sizing: border-box;top: 0;bottom: 0;left: 50%;z-index: 0;}#sk-container-id-11 div.sk-serial {display: flex;flex-direction: column;align-items: center;background-color: white;padding-right: 0.2em;padding-left: 0.2em;position: relative;}#sk-container-id-11 div.sk-item {position: relative;z-index: 1;}#sk-container-id-11 div.sk-parallel {display: flex;align-items: stretch;justify-content: center;background-color: white;position: relative;}#sk-container-id-11 div.sk-item::before, #sk-container-id-11 div.sk-parallel-item::before {content: \"\";position: absolute;border-left: 1px solid gray;box-sizing: border-box;top: 0;bottom: 0;left: 50%;z-index: -1;}#sk-container-id-11 div.sk-parallel-item {display: flex;flex-direction: column;z-index: 1;position: relative;background-color: white;}#sk-container-id-11 div.sk-parallel-item:first-child::after {align-self: flex-end;width: 50%;}#sk-container-id-11 div.sk-parallel-item:last-child::after {align-self: flex-start;width: 50%;}#sk-container-id-11 div.sk-parallel-item:only-child::after {width: 0;}#sk-container-id-11 div.sk-dashed-wrapped {border: 1px dashed gray;margin: 0 0.4em 0.5em 0.4em;box-sizing: border-box;padding-bottom: 0.4em;background-color: white;}#sk-container-id-11 div.sk-label label {font-family: monospace;font-weight: bold;display: inline-block;line-height: 1.2em;}#sk-container-id-11 div.sk-label-container {text-align: center;}#sk-container-id-11 div.sk-container {/* jupyter's `normalize.less` sets `[hidden] { display: none; }` but bootstrap.min.css set `[hidden] { display: none !important; }` so we also need the `!important` here to be able to override the default hidden behavior on the sphinx rendered scikit-learn.org. See: https://github.com/scikit-learn/scikit-learn/issues/21755 */display: inline-block !important;position: relative;}#sk-container-id-11 div.sk-text-repr-fallback {display: none;}</style><div id=\"sk-container-id-11\" class=\"sk-top-container\"><div class=\"sk-text-repr-fallback\"><pre>GridSearchCV(cv=5, estimator=LogisticRegression(), n_jobs=-1,\n",
       "             param_grid=[{&#x27;C&#x27;: [0.1, 0.2, 0.3, 0.4, 0.5, 0.6, 0.7, 0.8, 0.9, 1,\n",
       "                                1.1, 1.2, 1.3, 1.4, 1.5, 1.6, 1.7, 1.8, 1.9],\n",
       "                          &#x27;penalty&#x27;: [&#x27;l2&#x27;],\n",
       "                          &#x27;solver&#x27;: [&#x27;lbfgs&#x27;, &#x27;newton-cg&#x27;]}],\n",
       "             scoring=&#x27;f1_weighted&#x27;)</pre><b>In a Jupyter environment, please rerun this cell to show the HTML representation or trust the notebook. <br />On GitHub, the HTML representation is unable to render, please try loading this page with nbviewer.org.</b></div><div class=\"sk-container\" hidden><div class=\"sk-item sk-dashed-wrapped\"><div class=\"sk-label-container\"><div class=\"sk-label sk-toggleable\"><input class=\"sk-toggleable__control sk-hidden--visually\" id=\"sk-estimator-id-29\" type=\"checkbox\" ><label for=\"sk-estimator-id-29\" class=\"sk-toggleable__label sk-toggleable__label-arrow\">GridSearchCV</label><div class=\"sk-toggleable__content\"><pre>GridSearchCV(cv=5, estimator=LogisticRegression(), n_jobs=-1,\n",
       "             param_grid=[{&#x27;C&#x27;: [0.1, 0.2, 0.3, 0.4, 0.5, 0.6, 0.7, 0.8, 0.9, 1,\n",
       "                                1.1, 1.2, 1.3, 1.4, 1.5, 1.6, 1.7, 1.8, 1.9],\n",
       "                          &#x27;penalty&#x27;: [&#x27;l2&#x27;],\n",
       "                          &#x27;solver&#x27;: [&#x27;lbfgs&#x27;, &#x27;newton-cg&#x27;]}],\n",
       "             scoring=&#x27;f1_weighted&#x27;)</pre></div></div></div><div class=\"sk-parallel\"><div class=\"sk-parallel-item\"><div class=\"sk-item\"><div class=\"sk-label-container\"><div class=\"sk-label sk-toggleable\"><input class=\"sk-toggleable__control sk-hidden--visually\" id=\"sk-estimator-id-30\" type=\"checkbox\" ><label for=\"sk-estimator-id-30\" class=\"sk-toggleable__label sk-toggleable__label-arrow\">estimator: LogisticRegression</label><div class=\"sk-toggleable__content\"><pre>LogisticRegression()</pre></div></div></div><div class=\"sk-serial\"><div class=\"sk-item\"><div class=\"sk-estimator sk-toggleable\"><input class=\"sk-toggleable__control sk-hidden--visually\" id=\"sk-estimator-id-31\" type=\"checkbox\" ><label for=\"sk-estimator-id-31\" class=\"sk-toggleable__label sk-toggleable__label-arrow\">LogisticRegression</label><div class=\"sk-toggleable__content\"><pre>LogisticRegression()</pre></div></div></div></div></div></div></div></div></div></div>"
      ],
      "text/plain": [
       "GridSearchCV(cv=5, estimator=LogisticRegression(), n_jobs=-1,\n",
       "             param_grid=[{'C': [0.1, 0.2, 0.3, 0.4, 0.5, 0.6, 0.7, 0.8, 0.9, 1,\n",
       "                                1.1, 1.2, 1.3, 1.4, 1.5, 1.6, 1.7, 1.8, 1.9],\n",
       "                          'penalty': ['l2'],\n",
       "                          'solver': ['lbfgs', 'newton-cg']}],\n",
       "             scoring='f1_weighted')"
      ]
     },
     "execution_count": 121,
     "metadata": {},
     "output_type": "execute_result"
    }
   ],
   "source": [
    "grid_search_LR_2 = GridSearchCV(lr, \n",
    "                              param_grid=param_logistic_reg_2,\n",
    "                             n_jobs=-1,\n",
    "                             cv=5,\n",
    "                             scoring=\"f1_weighted\")\n",
    "grid_search_LR_2.fit(X=X_train, y=y_train_idx)"
   ]
  },
  {
   "cell_type": "code",
   "execution_count": 122,
   "metadata": {},
   "outputs": [
    {
     "data": {
      "text/plain": [
       "0.8087656174884638"
      ]
     },
     "execution_count": 122,
     "metadata": {},
     "output_type": "execute_result"
    }
   ],
   "source": [
    "grid_search_LR_2.best_score_"
   ]
  },
  {
   "cell_type": "code",
   "execution_count": 160,
   "metadata": {},
   "outputs": [],
   "source": [
    "lg_results_Array[0].append(grid_search_LR_2.best_score_)\n",
    "lg_results_Array[1].append(\"Solver is newton-cg/lbfgs and C~1\")\n",
    "lg_results_Array[2].append(grid_search_LR_2.best_params_)"
   ]
  },
  {
   "cell_type": "code",
   "execution_count": 124,
   "metadata": {},
   "outputs": [],
   "source": [
    "LR_top_5 = pd.DataFrame(grid_search_LR_2.cv_results_).sort_values(\"rank_test_score\").head(5)"
   ]
  },
  {
   "cell_type": "code",
   "execution_count": 125,
   "metadata": {},
   "outputs": [
    {
     "data": {
      "text/html": [
       "<div>\n",
       "<style scoped>\n",
       "    .dataframe tbody tr th:only-of-type {\n",
       "        vertical-align: middle;\n",
       "    }\n",
       "\n",
       "    .dataframe tbody tr th {\n",
       "        vertical-align: top;\n",
       "    }\n",
       "\n",
       "    .dataframe thead th {\n",
       "        text-align: right;\n",
       "    }\n",
       "</style>\n",
       "<table border=\"1\" class=\"dataframe\">\n",
       "  <thead>\n",
       "    <tr style=\"text-align: right;\">\n",
       "      <th></th>\n",
       "      <th>mean_fit_time</th>\n",
       "      <th>std_fit_time</th>\n",
       "      <th>mean_score_time</th>\n",
       "      <th>std_score_time</th>\n",
       "      <th>param_C</th>\n",
       "      <th>param_penalty</th>\n",
       "      <th>param_solver</th>\n",
       "      <th>params</th>\n",
       "      <th>split0_test_score</th>\n",
       "      <th>split1_test_score</th>\n",
       "      <th>split2_test_score</th>\n",
       "      <th>split3_test_score</th>\n",
       "      <th>split4_test_score</th>\n",
       "      <th>mean_test_score</th>\n",
       "      <th>std_test_score</th>\n",
       "      <th>rank_test_score</th>\n",
       "    </tr>\n",
       "  </thead>\n",
       "  <tbody>\n",
       "    <tr>\n",
       "      <th>2</th>\n",
       "      <td>0.326973</td>\n",
       "      <td>0.005554</td>\n",
       "      <td>0.004036</td>\n",
       "      <td>0.000886</td>\n",
       "      <td>0.2</td>\n",
       "      <td>l2</td>\n",
       "      <td>lbfgs</td>\n",
       "      <td>{'C': 0.2, 'penalty': 'l2', 'solver': 'lbfgs'}</td>\n",
       "      <td>0.819333</td>\n",
       "      <td>0.771006</td>\n",
       "      <td>0.824740</td>\n",
       "      <td>0.814734</td>\n",
       "      <td>0.814016</td>\n",
       "      <td>0.808766</td>\n",
       "      <td>0.019266</td>\n",
       "      <td>1</td>\n",
       "    </tr>\n",
       "    <tr>\n",
       "      <th>3</th>\n",
       "      <td>0.462725</td>\n",
       "      <td>0.026409</td>\n",
       "      <td>0.003665</td>\n",
       "      <td>0.001341</td>\n",
       "      <td>0.2</td>\n",
       "      <td>l2</td>\n",
       "      <td>newton-cg</td>\n",
       "      <td>{'C': 0.2, 'penalty': 'l2', 'solver': 'newton-...</td>\n",
       "      <td>0.819333</td>\n",
       "      <td>0.771006</td>\n",
       "      <td>0.824740</td>\n",
       "      <td>0.814734</td>\n",
       "      <td>0.814016</td>\n",
       "      <td>0.808766</td>\n",
       "      <td>0.019266</td>\n",
       "      <td>1</td>\n",
       "    </tr>\n",
       "    <tr>\n",
       "      <th>18</th>\n",
       "      <td>0.338342</td>\n",
       "      <td>0.015869</td>\n",
       "      <td>0.003520</td>\n",
       "      <td>0.000451</td>\n",
       "      <td>1</td>\n",
       "      <td>l2</td>\n",
       "      <td>lbfgs</td>\n",
       "      <td>{'C': 1, 'penalty': 'l2', 'solver': 'lbfgs'}</td>\n",
       "      <td>0.819333</td>\n",
       "      <td>0.771006</td>\n",
       "      <td>0.815303</td>\n",
       "      <td>0.814734</td>\n",
       "      <td>0.814016</td>\n",
       "      <td>0.806878</td>\n",
       "      <td>0.018031</td>\n",
       "      <td>3</td>\n",
       "    </tr>\n",
       "    <tr>\n",
       "      <th>28</th>\n",
       "      <td>0.322164</td>\n",
       "      <td>0.008597</td>\n",
       "      <td>0.003620</td>\n",
       "      <td>0.000498</td>\n",
       "      <td>1.5</td>\n",
       "      <td>l2</td>\n",
       "      <td>lbfgs</td>\n",
       "      <td>{'C': 1.5, 'penalty': 'l2', 'solver': 'lbfgs'}</td>\n",
       "      <td>0.819333</td>\n",
       "      <td>0.771006</td>\n",
       "      <td>0.815303</td>\n",
       "      <td>0.814734</td>\n",
       "      <td>0.814016</td>\n",
       "      <td>0.806878</td>\n",
       "      <td>0.018031</td>\n",
       "      <td>3</td>\n",
       "    </tr>\n",
       "    <tr>\n",
       "      <th>27</th>\n",
       "      <td>0.458191</td>\n",
       "      <td>0.020201</td>\n",
       "      <td>0.003400</td>\n",
       "      <td>0.000489</td>\n",
       "      <td>1.4</td>\n",
       "      <td>l2</td>\n",
       "      <td>newton-cg</td>\n",
       "      <td>{'C': 1.4, 'penalty': 'l2', 'solver': 'newton-...</td>\n",
       "      <td>0.819333</td>\n",
       "      <td>0.771006</td>\n",
       "      <td>0.815303</td>\n",
       "      <td>0.814734</td>\n",
       "      <td>0.814016</td>\n",
       "      <td>0.806878</td>\n",
       "      <td>0.018031</td>\n",
       "      <td>3</td>\n",
       "    </tr>\n",
       "  </tbody>\n",
       "</table>\n",
       "</div>"
      ],
      "text/plain": [
       "    mean_fit_time  std_fit_time  mean_score_time  std_score_time param_C  \\\n",
       "2        0.326973      0.005554         0.004036        0.000886     0.2   \n",
       "3        0.462725      0.026409         0.003665        0.001341     0.2   \n",
       "18       0.338342      0.015869         0.003520        0.000451       1   \n",
       "28       0.322164      0.008597         0.003620        0.000498     1.5   \n",
       "27       0.458191      0.020201         0.003400        0.000489     1.4   \n",
       "\n",
       "   param_penalty param_solver  \\\n",
       "2             l2        lbfgs   \n",
       "3             l2    newton-cg   \n",
       "18            l2        lbfgs   \n",
       "28            l2        lbfgs   \n",
       "27            l2    newton-cg   \n",
       "\n",
       "                                               params  split0_test_score  \\\n",
       "2      {'C': 0.2, 'penalty': 'l2', 'solver': 'lbfgs'}           0.819333   \n",
       "3   {'C': 0.2, 'penalty': 'l2', 'solver': 'newton-...           0.819333   \n",
       "18       {'C': 1, 'penalty': 'l2', 'solver': 'lbfgs'}           0.819333   \n",
       "28     {'C': 1.5, 'penalty': 'l2', 'solver': 'lbfgs'}           0.819333   \n",
       "27  {'C': 1.4, 'penalty': 'l2', 'solver': 'newton-...           0.819333   \n",
       "\n",
       "    split1_test_score  split2_test_score  split3_test_score  \\\n",
       "2            0.771006           0.824740           0.814734   \n",
       "3            0.771006           0.824740           0.814734   \n",
       "18           0.771006           0.815303           0.814734   \n",
       "28           0.771006           0.815303           0.814734   \n",
       "27           0.771006           0.815303           0.814734   \n",
       "\n",
       "    split4_test_score  mean_test_score  std_test_score  rank_test_score  \n",
       "2            0.814016         0.808766        0.019266                1  \n",
       "3            0.814016         0.808766        0.019266                1  \n",
       "18           0.814016         0.806878        0.018031                3  \n",
       "28           0.814016         0.806878        0.018031                3  \n",
       "27           0.814016         0.806878        0.018031                3  "
      ]
     },
     "execution_count": 125,
     "metadata": {},
     "output_type": "execute_result"
    }
   ],
   "source": [
    "LR_top_5"
   ]
  },
  {
   "cell_type": "code",
   "execution_count": 126,
   "metadata": {},
   "outputs": [],
   "source": [
    "param_logistic_reg_3 = [\n",
    "    {'solver': ['lbfgs', 'newton-cg'], 'penalty': ['l2'], 'C': [0.1, 0.12, 0.13, 0.14, 0.15, 0.17, 0.18, 0.19, 0.2,\n",
    "                                                                0.21, 0.22, 0.23, 0.24, 0.25, 0.26, 0.27, 0.28, 0.29]},\n",
    "]"
   ]
  },
  {
   "cell_type": "code",
   "execution_count": 127,
   "metadata": {},
   "outputs": [
    {
     "data": {
      "text/html": [
       "<style>#sk-container-id-12 {color: black;}#sk-container-id-12 pre{padding: 0;}#sk-container-id-12 div.sk-toggleable {background-color: white;}#sk-container-id-12 label.sk-toggleable__label {cursor: pointer;display: block;width: 100%;margin-bottom: 0;padding: 0.3em;box-sizing: border-box;text-align: center;}#sk-container-id-12 label.sk-toggleable__label-arrow:before {content: \"▸\";float: left;margin-right: 0.25em;color: #696969;}#sk-container-id-12 label.sk-toggleable__label-arrow:hover:before {color: black;}#sk-container-id-12 div.sk-estimator:hover label.sk-toggleable__label-arrow:before {color: black;}#sk-container-id-12 div.sk-toggleable__content {max-height: 0;max-width: 0;overflow: hidden;text-align: left;background-color: #f0f8ff;}#sk-container-id-12 div.sk-toggleable__content pre {margin: 0.2em;color: black;border-radius: 0.25em;background-color: #f0f8ff;}#sk-container-id-12 input.sk-toggleable__control:checked~div.sk-toggleable__content {max-height: 200px;max-width: 100%;overflow: auto;}#sk-container-id-12 input.sk-toggleable__control:checked~label.sk-toggleable__label-arrow:before {content: \"▾\";}#sk-container-id-12 div.sk-estimator input.sk-toggleable__control:checked~label.sk-toggleable__label {background-color: #d4ebff;}#sk-container-id-12 div.sk-label input.sk-toggleable__control:checked~label.sk-toggleable__label {background-color: #d4ebff;}#sk-container-id-12 input.sk-hidden--visually {border: 0;clip: rect(1px 1px 1px 1px);clip: rect(1px, 1px, 1px, 1px);height: 1px;margin: -1px;overflow: hidden;padding: 0;position: absolute;width: 1px;}#sk-container-id-12 div.sk-estimator {font-family: monospace;background-color: #f0f8ff;border: 1px dotted black;border-radius: 0.25em;box-sizing: border-box;margin-bottom: 0.5em;}#sk-container-id-12 div.sk-estimator:hover {background-color: #d4ebff;}#sk-container-id-12 div.sk-parallel-item::after {content: \"\";width: 100%;border-bottom: 1px solid gray;flex-grow: 1;}#sk-container-id-12 div.sk-label:hover label.sk-toggleable__label {background-color: #d4ebff;}#sk-container-id-12 div.sk-serial::before {content: \"\";position: absolute;border-left: 1px solid gray;box-sizing: border-box;top: 0;bottom: 0;left: 50%;z-index: 0;}#sk-container-id-12 div.sk-serial {display: flex;flex-direction: column;align-items: center;background-color: white;padding-right: 0.2em;padding-left: 0.2em;position: relative;}#sk-container-id-12 div.sk-item {position: relative;z-index: 1;}#sk-container-id-12 div.sk-parallel {display: flex;align-items: stretch;justify-content: center;background-color: white;position: relative;}#sk-container-id-12 div.sk-item::before, #sk-container-id-12 div.sk-parallel-item::before {content: \"\";position: absolute;border-left: 1px solid gray;box-sizing: border-box;top: 0;bottom: 0;left: 50%;z-index: -1;}#sk-container-id-12 div.sk-parallel-item {display: flex;flex-direction: column;z-index: 1;position: relative;background-color: white;}#sk-container-id-12 div.sk-parallel-item:first-child::after {align-self: flex-end;width: 50%;}#sk-container-id-12 div.sk-parallel-item:last-child::after {align-self: flex-start;width: 50%;}#sk-container-id-12 div.sk-parallel-item:only-child::after {width: 0;}#sk-container-id-12 div.sk-dashed-wrapped {border: 1px dashed gray;margin: 0 0.4em 0.5em 0.4em;box-sizing: border-box;padding-bottom: 0.4em;background-color: white;}#sk-container-id-12 div.sk-label label {font-family: monospace;font-weight: bold;display: inline-block;line-height: 1.2em;}#sk-container-id-12 div.sk-label-container {text-align: center;}#sk-container-id-12 div.sk-container {/* jupyter's `normalize.less` sets `[hidden] { display: none; }` but bootstrap.min.css set `[hidden] { display: none !important; }` so we also need the `!important` here to be able to override the default hidden behavior on the sphinx rendered scikit-learn.org. See: https://github.com/scikit-learn/scikit-learn/issues/21755 */display: inline-block !important;position: relative;}#sk-container-id-12 div.sk-text-repr-fallback {display: none;}</style><div id=\"sk-container-id-12\" class=\"sk-top-container\"><div class=\"sk-text-repr-fallback\"><pre>GridSearchCV(cv=5, estimator=LogisticRegression(), n_jobs=-1,\n",
       "             param_grid=[{&#x27;C&#x27;: [0.1, 0.12, 0.13, 0.14, 0.15, 0.17, 0.18, 0.19,\n",
       "                                0.2, 0.21, 0.22, 0.23, 0.24, 0.25, 0.26, 0.27,\n",
       "                                0.28, 0.29],\n",
       "                          &#x27;penalty&#x27;: [&#x27;l2&#x27;],\n",
       "                          &#x27;solver&#x27;: [&#x27;lbfgs&#x27;, &#x27;newton-cg&#x27;]}],\n",
       "             scoring=&#x27;f1_weighted&#x27;)</pre><b>In a Jupyter environment, please rerun this cell to show the HTML representation or trust the notebook. <br />On GitHub, the HTML representation is unable to render, please try loading this page with nbviewer.org.</b></div><div class=\"sk-container\" hidden><div class=\"sk-item sk-dashed-wrapped\"><div class=\"sk-label-container\"><div class=\"sk-label sk-toggleable\"><input class=\"sk-toggleable__control sk-hidden--visually\" id=\"sk-estimator-id-32\" type=\"checkbox\" ><label for=\"sk-estimator-id-32\" class=\"sk-toggleable__label sk-toggleable__label-arrow\">GridSearchCV</label><div class=\"sk-toggleable__content\"><pre>GridSearchCV(cv=5, estimator=LogisticRegression(), n_jobs=-1,\n",
       "             param_grid=[{&#x27;C&#x27;: [0.1, 0.12, 0.13, 0.14, 0.15, 0.17, 0.18, 0.19,\n",
       "                                0.2, 0.21, 0.22, 0.23, 0.24, 0.25, 0.26, 0.27,\n",
       "                                0.28, 0.29],\n",
       "                          &#x27;penalty&#x27;: [&#x27;l2&#x27;],\n",
       "                          &#x27;solver&#x27;: [&#x27;lbfgs&#x27;, &#x27;newton-cg&#x27;]}],\n",
       "             scoring=&#x27;f1_weighted&#x27;)</pre></div></div></div><div class=\"sk-parallel\"><div class=\"sk-parallel-item\"><div class=\"sk-item\"><div class=\"sk-label-container\"><div class=\"sk-label sk-toggleable\"><input class=\"sk-toggleable__control sk-hidden--visually\" id=\"sk-estimator-id-33\" type=\"checkbox\" ><label for=\"sk-estimator-id-33\" class=\"sk-toggleable__label sk-toggleable__label-arrow\">estimator: LogisticRegression</label><div class=\"sk-toggleable__content\"><pre>LogisticRegression()</pre></div></div></div><div class=\"sk-serial\"><div class=\"sk-item\"><div class=\"sk-estimator sk-toggleable\"><input class=\"sk-toggleable__control sk-hidden--visually\" id=\"sk-estimator-id-34\" type=\"checkbox\" ><label for=\"sk-estimator-id-34\" class=\"sk-toggleable__label sk-toggleable__label-arrow\">LogisticRegression</label><div class=\"sk-toggleable__content\"><pre>LogisticRegression()</pre></div></div></div></div></div></div></div></div></div></div>"
      ],
      "text/plain": [
       "GridSearchCV(cv=5, estimator=LogisticRegression(), n_jobs=-1,\n",
       "             param_grid=[{'C': [0.1, 0.12, 0.13, 0.14, 0.15, 0.17, 0.18, 0.19,\n",
       "                                0.2, 0.21, 0.22, 0.23, 0.24, 0.25, 0.26, 0.27,\n",
       "                                0.28, 0.29],\n",
       "                          'penalty': ['l2'],\n",
       "                          'solver': ['lbfgs', 'newton-cg']}],\n",
       "             scoring='f1_weighted')"
      ]
     },
     "execution_count": 127,
     "metadata": {},
     "output_type": "execute_result"
    }
   ],
   "source": [
    "grid_search_LR_3 = GridSearchCV(lr, \n",
    "                              param_grid=param_logistic_reg_3,\n",
    "                             n_jobs=-1,\n",
    "                             cv=5,\n",
    "                             scoring=\"f1_weighted\")\n",
    "grid_search_LR_3.fit(X=X, y=y_full)"
   ]
  },
  {
   "cell_type": "code",
   "execution_count": 128,
   "metadata": {},
   "outputs": [
    {
     "data": {
      "text/plain": [
       "0.8351628250337644"
      ]
     },
     "execution_count": 128,
     "metadata": {},
     "output_type": "execute_result"
    }
   ],
   "source": [
    "grid_search_LR_3.best_score_"
   ]
  },
  {
   "cell_type": "code",
   "execution_count": 161,
   "metadata": {},
   "outputs": [],
   "source": [
    "lg_results_Array[0].append(grid_search_LR_3.best_score_)\n",
    "lg_results_Array[1].append(\"C~5\")\n",
    "lg_results_Array[2].append(grid_search_LR_3.best_params_)"
   ]
  },
  {
   "cell_type": "code",
   "execution_count": 134,
   "metadata": {},
   "outputs": [],
   "source": [
    "LR_top_5 = pd.DataFrame(grid_search_LR_3.cv_results_).sort_values(\"rank_test_score\").head(5)"
   ]
  },
  {
   "cell_type": "code",
   "execution_count": 135,
   "metadata": {},
   "outputs": [
    {
     "data": {
      "text/html": [
       "<div>\n",
       "<style scoped>\n",
       "    .dataframe tbody tr th:only-of-type {\n",
       "        vertical-align: middle;\n",
       "    }\n",
       "\n",
       "    .dataframe tbody tr th {\n",
       "        vertical-align: top;\n",
       "    }\n",
       "\n",
       "    .dataframe thead th {\n",
       "        text-align: right;\n",
       "    }\n",
       "</style>\n",
       "<table border=\"1\" class=\"dataframe\">\n",
       "  <thead>\n",
       "    <tr style=\"text-align: right;\">\n",
       "      <th></th>\n",
       "      <th>mean_fit_time</th>\n",
       "      <th>std_fit_time</th>\n",
       "      <th>mean_score_time</th>\n",
       "      <th>std_score_time</th>\n",
       "      <th>param_C</th>\n",
       "      <th>param_penalty</th>\n",
       "      <th>param_solver</th>\n",
       "      <th>params</th>\n",
       "      <th>split0_test_score</th>\n",
       "      <th>split1_test_score</th>\n",
       "      <th>split2_test_score</th>\n",
       "      <th>split3_test_score</th>\n",
       "      <th>split4_test_score</th>\n",
       "      <th>mean_test_score</th>\n",
       "      <th>std_test_score</th>\n",
       "      <th>rank_test_score</th>\n",
       "    </tr>\n",
       "  </thead>\n",
       "  <tbody>\n",
       "    <tr>\n",
       "      <th>17</th>\n",
       "      <td>0.542145</td>\n",
       "      <td>0.028216</td>\n",
       "      <td>0.003876</td>\n",
       "      <td>0.000464</td>\n",
       "      <td>0.2</td>\n",
       "      <td>l2</td>\n",
       "      <td>newton-cg</td>\n",
       "      <td>{'C': 0.2, 'penalty': 'l2', 'solver': 'newton-...</td>\n",
       "      <td>0.800023</td>\n",
       "      <td>0.862712</td>\n",
       "      <td>0.817533</td>\n",
       "      <td>0.847347</td>\n",
       "      <td>0.8482</td>\n",
       "      <td>0.835163</td>\n",
       "      <td>0.022904</td>\n",
       "      <td>1</td>\n",
       "    </tr>\n",
       "    <tr>\n",
       "      <th>23</th>\n",
       "      <td>0.572121</td>\n",
       "      <td>0.028237</td>\n",
       "      <td>0.003412</td>\n",
       "      <td>0.000480</td>\n",
       "      <td>0.23</td>\n",
       "      <td>l2</td>\n",
       "      <td>newton-cg</td>\n",
       "      <td>{'C': 0.23, 'penalty': 'l2', 'solver': 'newton...</td>\n",
       "      <td>0.800023</td>\n",
       "      <td>0.862712</td>\n",
       "      <td>0.817533</td>\n",
       "      <td>0.847347</td>\n",
       "      <td>0.8482</td>\n",
       "      <td>0.835163</td>\n",
       "      <td>0.022904</td>\n",
       "      <td>1</td>\n",
       "    </tr>\n",
       "    <tr>\n",
       "      <th>22</th>\n",
       "      <td>0.367726</td>\n",
       "      <td>0.011419</td>\n",
       "      <td>0.003819</td>\n",
       "      <td>0.000397</td>\n",
       "      <td>0.23</td>\n",
       "      <td>l2</td>\n",
       "      <td>lbfgs</td>\n",
       "      <td>{'C': 0.23, 'penalty': 'l2', 'solver': 'lbfgs'}</td>\n",
       "      <td>0.800023</td>\n",
       "      <td>0.862712</td>\n",
       "      <td>0.817533</td>\n",
       "      <td>0.847347</td>\n",
       "      <td>0.8482</td>\n",
       "      <td>0.835163</td>\n",
       "      <td>0.022904</td>\n",
       "      <td>1</td>\n",
       "    </tr>\n",
       "    <tr>\n",
       "      <th>21</th>\n",
       "      <td>0.606210</td>\n",
       "      <td>0.033412</td>\n",
       "      <td>0.003583</td>\n",
       "      <td>0.000478</td>\n",
       "      <td>0.22</td>\n",
       "      <td>l2</td>\n",
       "      <td>newton-cg</td>\n",
       "      <td>{'C': 0.22, 'penalty': 'l2', 'solver': 'newton...</td>\n",
       "      <td>0.800023</td>\n",
       "      <td>0.862712</td>\n",
       "      <td>0.817533</td>\n",
       "      <td>0.847347</td>\n",
       "      <td>0.8482</td>\n",
       "      <td>0.835163</td>\n",
       "      <td>0.022904</td>\n",
       "      <td>1</td>\n",
       "    </tr>\n",
       "    <tr>\n",
       "      <th>20</th>\n",
       "      <td>0.366650</td>\n",
       "      <td>0.009536</td>\n",
       "      <td>0.003789</td>\n",
       "      <td>0.000386</td>\n",
       "      <td>0.22</td>\n",
       "      <td>l2</td>\n",
       "      <td>lbfgs</td>\n",
       "      <td>{'C': 0.22, 'penalty': 'l2', 'solver': 'lbfgs'}</td>\n",
       "      <td>0.800023</td>\n",
       "      <td>0.862712</td>\n",
       "      <td>0.817533</td>\n",
       "      <td>0.847347</td>\n",
       "      <td>0.8482</td>\n",
       "      <td>0.835163</td>\n",
       "      <td>0.022904</td>\n",
       "      <td>1</td>\n",
       "    </tr>\n",
       "  </tbody>\n",
       "</table>\n",
       "</div>"
      ],
      "text/plain": [
       "    mean_fit_time  std_fit_time  mean_score_time  std_score_time param_C  \\\n",
       "17       0.542145      0.028216         0.003876        0.000464     0.2   \n",
       "23       0.572121      0.028237         0.003412        0.000480    0.23   \n",
       "22       0.367726      0.011419         0.003819        0.000397    0.23   \n",
       "21       0.606210      0.033412         0.003583        0.000478    0.22   \n",
       "20       0.366650      0.009536         0.003789        0.000386    0.22   \n",
       "\n",
       "   param_penalty param_solver  \\\n",
       "17            l2    newton-cg   \n",
       "23            l2    newton-cg   \n",
       "22            l2        lbfgs   \n",
       "21            l2    newton-cg   \n",
       "20            l2        lbfgs   \n",
       "\n",
       "                                               params  split0_test_score  \\\n",
       "17  {'C': 0.2, 'penalty': 'l2', 'solver': 'newton-...           0.800023   \n",
       "23  {'C': 0.23, 'penalty': 'l2', 'solver': 'newton...           0.800023   \n",
       "22    {'C': 0.23, 'penalty': 'l2', 'solver': 'lbfgs'}           0.800023   \n",
       "21  {'C': 0.22, 'penalty': 'l2', 'solver': 'newton...           0.800023   \n",
       "20    {'C': 0.22, 'penalty': 'l2', 'solver': 'lbfgs'}           0.800023   \n",
       "\n",
       "    split1_test_score  split2_test_score  split3_test_score  \\\n",
       "17           0.862712           0.817533           0.847347   \n",
       "23           0.862712           0.817533           0.847347   \n",
       "22           0.862712           0.817533           0.847347   \n",
       "21           0.862712           0.817533           0.847347   \n",
       "20           0.862712           0.817533           0.847347   \n",
       "\n",
       "    split4_test_score  mean_test_score  std_test_score  rank_test_score  \n",
       "17             0.8482         0.835163        0.022904                1  \n",
       "23             0.8482         0.835163        0.022904                1  \n",
       "22             0.8482         0.835163        0.022904                1  \n",
       "21             0.8482         0.835163        0.022904                1  \n",
       "20             0.8482         0.835163        0.022904                1  "
      ]
     },
     "execution_count": 135,
     "metadata": {},
     "output_type": "execute_result"
    }
   ],
   "source": [
    "LR_top_5"
   ]
  },
  {
   "cell_type": "code",
   "execution_count": 215,
   "metadata": {},
   "outputs": [],
   "source": [
    "# Now lets add latent space representation as additional features and see if it changes the result"
   ]
  },
  {
   "cell_type": "code",
   "execution_count": 132,
   "metadata": {},
   "outputs": [
    {
     "data": {
      "text/plain": [
       "{'C': 0.18, 'penalty': 'l2', 'solver': 'newton-cg'}"
      ]
     },
     "execution_count": 132,
     "metadata": {},
     "output_type": "execute_result"
    }
   ],
   "source": [
    "grid_search_LR_3.best_params_"
   ]
  },
  {
   "cell_type": "code",
   "execution_count": 150,
   "metadata": {},
   "outputs": [
    {
     "name": "stderr",
     "output_type": "stream",
     "text": [
      "c:\\users\\cagin\\appdata\\local\\programs\\python\\python39\\lib\\site-packages\\sklearn\\linear_model\\_logistic.py:460: ConvergenceWarning: lbfgs failed to converge (status=1):\n",
      "STOP: TOTAL NO. of ITERATIONS REACHED LIMIT.\n",
      "\n",
      "Increase the number of iterations (max_iter) or scale the data as shown in:\n",
      "    https://scikit-learn.org/stable/modules/preprocessing.html\n",
      "Please also refer to the documentation for alternative solver options:\n",
      "    https://scikit-learn.org/stable/modules/linear_model.html#logistic-regression\n",
      "  n_iter_i = _check_optimize_result(\n"
     ]
    }
   ],
   "source": [
    "le = LogisticRegression(C=0.18, penalty=\"l2\", solver=\"lbfgs\")\n",
    "model_2 = le.fit(X_train, y_train_idx)"
   ]
  },
  {
   "cell_type": "code",
   "execution_count": 151,
   "metadata": {},
   "outputs": [
    {
     "data": {
      "text/plain": [
       "array([[27,  3,  0,  0,  0,  0,  0,  0,  0,  0],\n",
       "       [ 4, 46,  0,  0,  0,  0,  0,  0,  0,  0],\n",
       "       [ 0,  0,  4,  0,  0,  2,  0,  0,  0,  0],\n",
       "       [ 0,  0,  0,  9,  0,  0,  0,  1,  0,  0],\n",
       "       [ 0,  0,  0,  2, 13,  0,  0,  0,  0,  0],\n",
       "       [ 1,  0,  0,  1,  0, 12,  0,  0,  0,  0],\n",
       "       [ 0,  0,  0,  0,  0,  0,  1,  0,  0,  0],\n",
       "       [ 0,  0,  0,  1,  0,  1,  0,  7,  0,  0],\n",
       "       [ 0,  0,  0,  2,  0,  0,  0,  0,  0,  0],\n",
       "       [ 0,  1,  0,  0,  0,  0,  0,  0,  0,  2]], dtype=int64)"
      ]
     },
     "execution_count": 151,
     "metadata": {},
     "output_type": "execute_result"
    }
   ],
   "source": [
    "outputs_2 = model_2.predict(X_test)\n",
    "cm_2 = confusion_matrix(y_test_idx, outputs_2)\n",
    "cm_2"
   ]
  },
  {
   "cell_type": "code",
   "execution_count": 152,
   "metadata": {},
   "outputs": [
    {
     "data": {
      "image/png": "[encoded data removed]",
      "text/plain": [
       "<Figure size 432x288 with 2 Axes>"
      ]
     },
     "metadata": {
      "needs_background": "light"
     },
     "output_type": "display_data"
    }
   ],
   "source": [
    "disp_2 = ConfusionMatrixDisplay(confusion_matrix=cm_2)\n",
    "disp_2.plot(cmap=\"Blues\")\n",
    "plt.title(\"Confusion Matrix\")\n",
    "plt.show()"
   ]
  },
  {
   "cell_type": "code",
   "execution_count": 154,
   "metadata": {},
   "outputs": [
    {
     "name": "stdout",
     "output_type": "stream",
     "text": [
      "Weighted F1 Score: 0.8603969663505002\n"
     ]
    }
   ],
   "source": [
    "f1 = f1_score(y_test_idx, outputs_2, average='weighted')\n",
    "print(\"Weighted F1 Score:\", f1)"
   ]
  },
  {
   "cell_type": "code",
   "execution_count": 163,
   "metadata": {},
   "outputs": [],
   "source": [
    "lg_results_Array[0].append(le.score(X_test, y_test_idx))\n",
    "lg_results_Array[1].append(\"Best GridSearch Params\")\n",
    "lg_results_Array[2].append(grid_search_LR_3.best_params_)"
   ]
  },
  {
   "cell_type": "code",
   "execution_count": 164,
   "metadata": {},
   "outputs": [
    {
     "data": {
      "text/plain": [
       "[[0.806878219172494,\n",
       "  0.8087656174884638,\n",
       "  0.8351628250337644,\n",
       "  0.8642857142857143],\n",
       " ['1st try',\n",
       "  'Solver is newton-cg/lbfgs and C~1',\n",
       "  'C~5',\n",
       "  'Best GridSearch Params'],\n",
       " [{'C': 1, 'penalty': 'l2', 'solver': 'lbfgs'},\n",
       "  {'C': 0.2, 'penalty': 'l2', 'solver': 'lbfgs'},\n",
       "  {'C': 0.18, 'penalty': 'l2', 'solver': 'newton-cg'},\n",
       "  {'C': 0.18, 'penalty': 'l2', 'solver': 'newton-cg'}]]"
      ]
     },
     "execution_count": 164,
     "metadata": {},
     "output_type": "execute_result"
    }
   ],
   "source": [
    "lg_results_Array"
   ]
  },
  {
   "cell_type": "code",
   "execution_count": 165,
   "metadata": {},
   "outputs": [],
   "source": [
    "C_values = [i[\"C\"] for i in lg_results_Array[2]]\n",
    "penalty_val = [i[\"penalty\"] for i in lg_results_Array[2]]\n",
    "solver_val = [i[\"solver\"] for i in lg_results_Array[2]]"
   ]
  },
  {
   "cell_type": "code",
   "execution_count": 166,
   "metadata": {},
   "outputs": [],
   "source": [
    "scores, updates = lg_results_Array[0], lg_results_Array[1]"
   ]
  },
  {
   "cell_type": "code",
   "execution_count": 167,
   "metadata": {},
   "outputs": [
    {
     "data": {
      "image/png": "[encoded data removed]",
      "text/plain": [
       "<Figure size 576x288 with 1 Axes>"
      ]
     },
     "metadata": {
      "needs_background": "light"
     },
     "output_type": "display_data"
    }
   ],
   "source": [
    "plt.figure(figsize=(8, 4))\n",
    "sns.kdeplot(scores, fill=True, color='skyblue', linewidth=2)\n",
    "plt.title(\"Density Plot of Logistic Regression Scores\")\n",
    "plt.xlabel(\"Score\")\n",
    "plt.ylabel(\"Density\")\n",
    "plt.grid(True)\n",
    "plt.show()\n"
   ]
  },
  {
   "cell_type": "code",
   "execution_count": 169,
   "metadata": {},
   "outputs": [
    {
     "data": {
      "text/html": [
       "<div>\n",
       "<style scoped>\n",
       "    .dataframe tbody tr th:only-of-type {\n",
       "        vertical-align: middle;\n",
       "    }\n",
       "\n",
       "    .dataframe tbody tr th {\n",
       "        vertical-align: top;\n",
       "    }\n",
       "\n",
       "    .dataframe thead th {\n",
       "        text-align: right;\n",
       "    }\n",
       "</style>\n",
       "<table border=\"1\" class=\"dataframe\">\n",
       "  <thead>\n",
       "    <tr style=\"text-align: right;\">\n",
       "      <th></th>\n",
       "      <th>C</th>\n",
       "      <th>penalty</th>\n",
       "      <th>solver</th>\n",
       "      <th>score</th>\n",
       "      <th>description</th>\n",
       "    </tr>\n",
       "  </thead>\n",
       "  <tbody>\n",
       "    <tr>\n",
       "      <th>0</th>\n",
       "      <td>1.00</td>\n",
       "      <td>l2</td>\n",
       "      <td>lbfgs</td>\n",
       "      <td>0.806878</td>\n",
       "      <td>1st try</td>\n",
       "    </tr>\n",
       "    <tr>\n",
       "      <th>1</th>\n",
       "      <td>0.20</td>\n",
       "      <td>l2</td>\n",
       "      <td>lbfgs</td>\n",
       "      <td>0.808766</td>\n",
       "      <td>Solver is newton-cg/lbfgs and C~1</td>\n",
       "    </tr>\n",
       "    <tr>\n",
       "      <th>2</th>\n",
       "      <td>0.18</td>\n",
       "      <td>l2</td>\n",
       "      <td>newton-cg</td>\n",
       "      <td>0.835163</td>\n",
       "      <td>C~5</td>\n",
       "    </tr>\n",
       "    <tr>\n",
       "      <th>3</th>\n",
       "      <td>0.18</td>\n",
       "      <td>l2</td>\n",
       "      <td>newton-cg</td>\n",
       "      <td>0.864286</td>\n",
       "      <td>Best GridSearch Params</td>\n",
       "    </tr>\n",
       "  </tbody>\n",
       "</table>\n",
       "</div>"
      ],
      "text/plain": [
       "      C penalty     solver     score                        description\n",
       "0  1.00      l2      lbfgs  0.806878                            1st try\n",
       "1  0.20      l2      lbfgs  0.808766  Solver is newton-cg/lbfgs and C~1\n",
       "2  0.18      l2  newton-cg  0.835163                                C~5\n",
       "3  0.18      l2  newton-cg  0.864286             Best GridSearch Params"
      ]
     },
     "execution_count": 169,
     "metadata": {},
     "output_type": "execute_result"
    }
   ],
   "source": [
    "params = lg_results_Array[2]\n",
    "df = pd.DataFrame(params)\n",
    "df['score'] = scores\n",
    "df['description'] = updates\n",
    "\n",
    "df"
   ]
  },
  {
   "cell_type": "code",
   "execution_count": null,
   "metadata": {},
   "outputs": [],
   "source": []
  }
 ],
 "metadata": {
  "colab": {
   "collapsed_sections": [],
   "name": "Final Project Part 2 - Classification",
   "provenance": []
  },
  "kernelspec": {
   "display_name": "Python 3",
   "language": "python",
   "name": "python3"
  },
  "language_info": {
   "codemirror_mode": {
    "name": "ipython",
    "version": 3
   },
   "file_extension": ".py",
   "mimetype": "text/x-python",
   "name": "python",
   "nbconvert_exporter": "python",
   "pygments_lexer": "ipython3",
   "version": "3.9.6"
  }
 },
 "nbformat": 4,
 "nbformat_minor": 1
}
